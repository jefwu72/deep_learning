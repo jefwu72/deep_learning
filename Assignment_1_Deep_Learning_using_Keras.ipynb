{
  "nbformat": 4,
  "nbformat_minor": 0,
  "metadata": {
    "kernelspec": {
      "display_name": "Python 3",
      "language": "python",
      "name": "python3"
    },
    "language_info": {
      "codemirror_mode": {
        "name": "ipython",
        "version": 3
      },
      "file_extension": ".py",
      "mimetype": "text/x-python",
      "name": "python",
      "nbconvert_exporter": "python",
      "pygments_lexer": "ipython3",
      "version": "3.5.2"
    },
    "colab": {
      "name": "Assignment 1 - Deep Learning using Keras",
      "provenance": [],
      "collapsed_sections": [],
      "include_colab_link": true
    },
    "accelerator": "TPU"
  },
  "cells": [
    {
      "cell_type": "markdown",
      "metadata": {
        "id": "view-in-github",
        "colab_type": "text"
      },
      "source": [
        "<a href=\"https://colab.research.google.com/github/jefwu72/deep_learning/blob/main/Assignment_1_Deep_Learning_using_Keras.ipynb\" target=\"_parent\"><img src=\"https://colab.research.google.com/assets/colab-badge.svg\" alt=\"Open In Colab\"/></a>"
      ]
    },
    {
      "cell_type": "code",
      "metadata": {
        "id": "1yMImw3Qvv66"
      },
      "source": [
        "import keras\n",
        "keras.__version__\n",
        "import numpy as np\n",
        "import pandas as pd"
      ],
      "execution_count": 3,
      "outputs": []
    },
    {
      "cell_type": "markdown",
      "metadata": {
        "id": "lFFxV1Muvv7U"
      },
      "source": [
        "# Classifying movie reviews: a binary classification example\n",
        "\n",
        "This notebook contains the code samples found in Chapter 3, Section 5 of [Deep Learning with Python](https://www.manning.com/books/deep-learning-with-python?a_aid=keras&a_bid=76564dff). Note that the original text features far more content, in particular further explanations and figures: in this notebook, you will only find source code and related comments.\n",
        "\n",
        "----\n",
        "\n",
        "\n",
        "Two-class classification, or binary classification, may be the most widely applied kind of machine learning problem. In this example, we \n",
        "will learn to classify movie reviews into \"positive\" reviews and \"negative\" reviews, just based on the text content of the reviews."
      ]
    },
    {
      "cell_type": "markdown",
      "metadata": {
        "id": "pVPVdhagvv7W"
      },
      "source": [
        "## The IMDB dataset\n",
        "\n",
        "\n",
        "We'll be working with \"IMDB dataset\", a set of 50,000 highly-polarized reviews from the Internet Movie Database. They are split into 25,000 \n",
        "reviews for training and 25,000 reviews for testing, each set consisting in 50% negative and 50% positive reviews.\n",
        "\n",
        "Why do we have these two separate training and test sets? You should never test a machine learning model on the same data that you used to \n",
        "train it! Just because a model performs well on its training data doesn't mean that it will perform well on data it has never seen, and \n",
        "what you actually care about is your model's performance on new data (since you already know the labels of your training data -- obviously \n",
        "you don't need your model to predict those). For instance, it is possible that your model could end up merely _memorizing_ a mapping between \n",
        "your training samples and their targets -- which would be completely useless for the task of predicting targets for data never seen before. \n",
        "We will go over this point in much more detail in the next chapter.\n",
        "\n",
        "Just like the MNIST dataset, the IMDB dataset comes packaged with Keras. It has already been preprocessed: the reviews (sequences of words) \n",
        "have been turned into sequences of integers, where each integer stands for a specific word in a dictionary.\n",
        "\n",
        "The following code will load the dataset (when you run it for the first time, about 80MB of data will be downloaded to your machine):"
      ]
    },
    {
      "cell_type": "code",
      "metadata": {
        "id": "vS2FbBKKvv7Z",
        "colab": {
          "base_uri": "https://localhost:8080/"
        },
        "outputId": "a39944b3-76c7-4217-8943-65e59044d0e9"
      },
      "source": [
        "from keras.datasets import imdb\n",
        "\n",
        "(train_data, train_labels), (test_data, test_labels) = imdb.load_data(num_words=10000)"
      ],
      "execution_count": 4,
      "outputs": [
        {
          "output_type": "stream",
          "text": [
            "Downloading data from https://storage.googleapis.com/tensorflow/tf-keras-datasets/imdb.npz\n",
            "17465344/17464789 [==============================] - 0s 0us/step\n"
          ],
          "name": "stdout"
        }
      ]
    },
    {
      "cell_type": "markdown",
      "metadata": {
        "id": "NLW9SkKXvv7f"
      },
      "source": [
        "\n",
        "The argument `num_words=10000` means that we will only keep the top 10,000 most frequently occurring words in the training data. Rare words \n",
        "will be discarded. This allows us to work with vector data of manageable size.\n",
        "\n",
        "The variables `train_data` and `test_data` are lists of reviews, each review being a list of word indices (encoding a sequence of words). \n",
        "`train_labels` and `test_labels` are lists of 0s and 1s, where 0 stands for \"negative\" and 1 stands for \"positive\":"
      ]
    },
    {
      "cell_type": "code",
      "metadata": {
        "id": "XMnttnDcvv7g",
        "colab": {
          "base_uri": "https://localhost:8080/"
        },
        "outputId": "3d7b7a7b-f73a-40f4-c670-d337b69cdbd9"
      },
      "source": [
        "train_data[0]\n",
        "max(train_data[0])"
      ],
      "execution_count": 5,
      "outputs": [
        {
          "output_type": "execute_result",
          "data": {
            "text/plain": [
              "7486"
            ]
          },
          "metadata": {
            "tags": []
          },
          "execution_count": 5
        }
      ]
    },
    {
      "cell_type": "code",
      "metadata": {
        "id": "ACfUBCPfvv7m",
        "colab": {
          "base_uri": "https://localhost:8080/"
        },
        "outputId": "bd64e303-d030-48a2-b3df-a4dd417a1bf7"
      },
      "source": [
        "train_labels[0]"
      ],
      "execution_count": 6,
      "outputs": [
        {
          "output_type": "execute_result",
          "data": {
            "text/plain": [
              "1"
            ]
          },
          "metadata": {
            "tags": []
          },
          "execution_count": 6
        }
      ]
    },
    {
      "cell_type": "markdown",
      "metadata": {
        "id": "QxON_59qvv7t"
      },
      "source": [
        "Since we restricted ourselves to the top 10,000 most frequent words, no word index will exceed 10,000:"
      ]
    },
    {
      "cell_type": "code",
      "metadata": {
        "id": "QsFyaYwDvv7u",
        "colab": {
          "base_uri": "https://localhost:8080/"
        },
        "outputId": "9faad42c-faec-493c-b3e4-8d4bd3e09fb1"
      },
      "source": [
        "max([max(sequence) for sequence in train_data])"
      ],
      "execution_count": 7,
      "outputs": [
        {
          "output_type": "execute_result",
          "data": {
            "text/plain": [
              "9999"
            ]
          },
          "metadata": {
            "tags": []
          },
          "execution_count": 7
        }
      ]
    },
    {
      "cell_type": "markdown",
      "metadata": {
        "id": "ukK__0_rvv7y"
      },
      "source": [
        "For kicks, here's how you can quickly decode one of these reviews back to English words:"
      ]
    },
    {
      "cell_type": "code",
      "metadata": {
        "id": "dnnii8X4vv7z",
        "colab": {
          "base_uri": "https://localhost:8080/"
        },
        "outputId": "411b48e0-a847-4e55-d0a8-d27a9c401daf"
      },
      "source": [
        "# word_index is a dictionary mapping words to an integer index\n",
        "word_index = imdb.get_word_index()\n",
        "# We reverse it, mapping integer indices to words\n",
        "reverse_word_index = dict([(value, key) for (key, value) in word_index.items()])\n",
        "# We decode the review; note that our indices were offset by 3\n",
        "# because 0, 1 and 2 are reserved indices for \"padding\", \"start of sequence\", and \"unknown\".\n",
        "decoded_review = ' '.join([reverse_word_index.get(i - 3, '?') for i in train_data[0]])"
      ],
      "execution_count": 8,
      "outputs": [
        {
          "output_type": "stream",
          "text": [
            "Downloading data from https://storage.googleapis.com/tensorflow/tf-keras-datasets/imdb_word_index.json\n",
            "1646592/1641221 [==============================] - 0s 0us/step\n"
          ],
          "name": "stdout"
        }
      ]
    },
    {
      "cell_type": "code",
      "metadata": {
        "id": "LLIMrr-Avv71",
        "colab": {
          "base_uri": "https://localhost:8080/",
          "height": 154
        },
        "outputId": "e9180f89-5bd7-4217-be03-75e1d83933ff"
      },
      "source": [
        "decoded_review"
      ],
      "execution_count": 9,
      "outputs": [
        {
          "output_type": "execute_result",
          "data": {
            "application/vnd.google.colaboratory.intrinsic+json": {
              "type": "string"
            },
            "text/plain": [
              "\"? this film was just brilliant casting location scenery story direction everyone's really suited the part they played and you could just imagine being there robert ? is an amazing actor and now the same being director ? father came from the same scottish island as myself so i loved the fact there was a real connection with this film the witty remarks throughout the film were great it was just brilliant so much that i bought the film as soon as it was released for ? and would recommend it to everyone to watch and the fly fishing was amazing really cried at the end it was so sad and you know what they say if you cry at a film it must have been good and this definitely was also ? to the two little boy's that played the ? of norman and paul they were just brilliant children are often left out of the ? list i think because the stars that play them all grown up are such a big profile for the whole film but these children are amazing and should be praised for what they have done don't you think the whole story was so lovely because it was true and was someone's life after all that was shared with us all\""
            ]
          },
          "metadata": {
            "tags": []
          },
          "execution_count": 9
        }
      ]
    },
    {
      "cell_type": "markdown",
      "metadata": {
        "id": "DDixMObGvv73"
      },
      "source": [
        "## Preparing the data\n",
        "\n",
        "\n",
        "We cannot feed lists of integers into a neural network. We have to turn our lists into tensors. There are two ways we could do that:\n",
        "\n",
        "* We could pad our lists so that they all have the same length, and turn them into an integer tensor of shape `(samples, word_indices)`, \n",
        "then use as first layer in our network a layer capable of handling such integer tensors (the `Embedding` layer, which we will cover in \n",
        "detail later in the book).\n",
        "* We could one-hot-encode our lists to turn them into vectors of 0s and 1s. Concretely, this would mean for instance turning the sequence \n",
        "`[3, 5]` into a 10,000-dimensional vector that would be all-zeros except for indices 3 and 5, which would be ones. Then we could use as \n",
        "first layer in our network a `Dense` layer, capable of handling floating point vector data.\n",
        "\n",
        "We will go with the latter solution. Let's vectorize our data, which we will do manually for maximum clarity:"
      ]
    },
    {
      "cell_type": "code",
      "metadata": {
        "id": "D-aUG5oyvv74"
      },
      "source": [
        "import numpy as np\n",
        "\n",
        "def vectorize_sequences(sequences, dimension=10000):\n",
        "    # Create an all-zero matrix of shape (len(sequences), dimension)\n",
        "    results = np.zeros((len(sequences), dimension))\n",
        "    for i, sequence in enumerate(sequences):\n",
        "        results[i, sequence] = 1.  # set specific indices of results[i] to 1s\n",
        "    return results\n",
        "\n",
        "# Our vectorized training data\n",
        "x_train = vectorize_sequences(train_data)\n",
        "# Our vectorized test data\n",
        "x_test = vectorize_sequences(test_data)"
      ],
      "execution_count": 10,
      "outputs": []
    },
    {
      "cell_type": "markdown",
      "metadata": {
        "id": "WSYHpRk6vv76"
      },
      "source": [
        "Here's what our samples look like now:"
      ]
    },
    {
      "cell_type": "code",
      "metadata": {
        "id": "TLil8n4ovv76",
        "colab": {
          "base_uri": "https://localhost:8080/"
        },
        "outputId": "443441c7-1459-4dc5-dc8b-8bdb9f2364cb"
      },
      "source": [
        "x_train[0]"
      ],
      "execution_count": 11,
      "outputs": [
        {
          "output_type": "execute_result",
          "data": {
            "text/plain": [
              "array([0., 1., 1., ..., 0., 0., 0.])"
            ]
          },
          "metadata": {
            "tags": []
          },
          "execution_count": 11
        }
      ]
    },
    {
      "cell_type": "markdown",
      "metadata": {
        "id": "7UIgJjiPvv78"
      },
      "source": [
        "We should also vectorize our labels, which is straightforward:"
      ]
    },
    {
      "cell_type": "code",
      "metadata": {
        "id": "Qg6pvSBbvv79"
      },
      "source": [
        "# Our vectorized labels\n",
        "y_train = np.asarray(train_labels).astype('float32')\n",
        "y_test = np.asarray(test_labels).astype('float32')"
      ],
      "execution_count": 12,
      "outputs": []
    },
    {
      "cell_type": "markdown",
      "metadata": {
        "id": "2X1_U_X6vv7-"
      },
      "source": [
        "Now our data is ready to be fed into a neural network."
      ]
    },
    {
      "cell_type": "markdown",
      "metadata": {
        "id": "WejZEUrsvv7_"
      },
      "source": [
        "## Building our network\n",
        "\n",
        "\n",
        "Our input data is simply vectors, and our labels are scalars (1s and 0s): this is the easiest setup you will ever encounter. A type of \n",
        "network that performs well on such a problem would be a simple stack of fully-connected (`Dense`) layers with `relu` activations: `Dense(16, \n",
        "activation='relu')`\n",
        "\n",
        "The argument being passed to each `Dense` layer (16) is the number of \"hidden units\" of the layer. What's a hidden unit? It's a dimension \n",
        "in the representation space of the layer. You may remember from the previous chapter that each such `Dense` layer with a `relu` activation implements \n",
        "the following chain of tensor operations:\n",
        "\n",
        "`output = relu(dot(W, input) + b)`\n",
        "\n",
        "Having 16 hidden units means that the weight matrix `W` will have shape `(input_dimension, 16)`, i.e. the dot product with `W` will project the \n",
        "input data onto a 16-dimensional representation space (and then we would add the bias vector `b` and apply the `relu` operation). You can \n",
        "intuitively understand the dimensionality of your representation space as \"how much freedom you are allowing the network to have when \n",
        "learning internal representations\". Having more hidden units (a higher-dimensional representation space) allows your network to learn more \n",
        "complex representations, but it makes your network more computationally expensive and may lead to learning unwanted patterns (patterns that \n",
        "will improve performance on the training data but not on the test data).\n",
        "\n",
        "There are two key architecture decisions to be made about such stack of dense layers:\n",
        "\n",
        "* How many layers to use.\n",
        "* How many \"hidden units\" to chose for each layer.\n",
        "\n",
        "In the next chapter, you will learn formal principles to guide you in making these choices. \n",
        "For the time being, you will have to trust us with the following architecture choice: \n",
        "two intermediate layers with 16 hidden units each, \n",
        "and a third layer which will output the scalar prediction regarding the sentiment of the current review. \n",
        "The intermediate layers will use `relu` as their \"activation function\", \n",
        "and the final layer will use a sigmoid activation so as to output a probability \n",
        "(a score between 0 and 1, indicating how likely the sample is to have the target \"1\", i.e. how likely the review is to be positive). \n",
        "A `relu` (rectified linear unit) is a function meant to zero-out negative values, \n",
        "while a sigmoid \"squashes\" arbitrary values into the `[0, 1]` interval, thus outputting something that can be interpreted as a probability."
      ]
    },
    {
      "cell_type": "markdown",
      "metadata": {
        "id": "3fm59odpvv7_"
      },
      "source": [
        "Here's what our network looks like:\n",
        "\n",
        "![3-layer network](https://s3.amazonaws.com/book.keras.io/img/ch3/3_layer_network.png)"
      ]
    },
    {
      "cell_type": "markdown",
      "metadata": {
        "id": "CfFR7fb_vv7_"
      },
      "source": [
        "And here's the Keras implementation, very similar to the MNIST example you saw previously:"
      ]
    },
    {
      "cell_type": "code",
      "metadata": {
        "id": "j6U5OB4pvv8A"
      },
      "source": [
        "from keras import models\n",
        "from keras import layers\n",
        "\n",
        "model = models.Sequential()\n",
        "model.add(layers.Dense(16, activation='relu', input_shape=(10000,)))\n",
        "model.add(layers.Dense(16, activation='relu'))\n",
        "model.add(layers.Dense(1, activation='sigmoid'))"
      ],
      "execution_count": 13,
      "outputs": []
    },
    {
      "cell_type": "markdown",
      "metadata": {
        "id": "FqKwKmgxvv8C"
      },
      "source": [
        "\n",
        "Lastly, we need to pick a loss function and an optimizer. Since we are facing a binary classification problem and the output of our network \n",
        "is a probability (we end our network with a single-unit layer with a sigmoid activation), is it best to use the `binary_crossentropy` loss. \n",
        "It isn't the only viable choice: you could use, for instance, `mean_squared_error`. But crossentropy is usually the best choice when you \n",
        "are dealing with models that output probabilities. Crossentropy is a quantity from the field of Information Theory, that measures the \"distance\" \n",
        "between probability distributions, or in our case, between the ground-truth distribution and our predictions.\n",
        "\n",
        "Here's the step where we configure our model with the `rmsprop` optimizer and the `binary_crossentropy` loss function. Note that we will \n",
        "also monitor accuracy during training."
      ]
    },
    {
      "cell_type": "code",
      "metadata": {
        "id": "b5QosjlNvv8C"
      },
      "source": [
        "model.compile(optimizer='rmsprop',\n",
        "              loss='binary_crossentropy',\n",
        "              metrics=['accuracy'])"
      ],
      "execution_count": 14,
      "outputs": []
    },
    {
      "cell_type": "markdown",
      "metadata": {
        "id": "2ak2-zlfvv8E"
      },
      "source": [
        "We are passing our optimizer, loss function and metrics as strings, which is possible because `rmsprop`, `binary_crossentropy` and \n",
        "`accuracy` are packaged as part of Keras. Sometimes you may want to configure the parameters of your optimizer, or pass a custom loss \n",
        "function or metric function. This former can be done by passing an optimizer class instance as the `optimizer` argument:"
      ]
    },
    {
      "cell_type": "code",
      "metadata": {
        "id": "LJ9rxngNvv8F"
      },
      "source": [
        "from keras import optimizers\n",
        "\n",
        "model.compile(optimizer=optimizers.RMSprop(lr=0.001),\n",
        "              loss='binary_crossentropy',\n",
        "              metrics=['accuracy'])"
      ],
      "execution_count": 15,
      "outputs": []
    },
    {
      "cell_type": "markdown",
      "metadata": {
        "id": "ggs81yngvv8I"
      },
      "source": [
        "The latter can be done by passing function objects as the `loss` or `metrics` arguments:"
      ]
    },
    {
      "cell_type": "code",
      "metadata": {
        "id": "Uck0G492vv8I"
      },
      "source": [
        "from keras import losses\n",
        "from keras import metrics\n",
        "\n",
        "model.compile(optimizer=optimizers.RMSprop(lr=0.001),\n",
        "              loss=losses.binary_crossentropy,\n",
        "              metrics=[metrics.binary_accuracy])"
      ],
      "execution_count": 16,
      "outputs": []
    },
    {
      "cell_type": "markdown",
      "metadata": {
        "id": "ih-49Uomvv8L"
      },
      "source": [
        "## Validating our approach\n",
        "\n",
        "In order to monitor during training the accuracy of the model on data that it has never seen before, we will create a \"validation set\" by \n",
        "setting apart 10,000 samples from the original training data:"
      ]
    },
    {
      "cell_type": "code",
      "metadata": {
        "id": "jrSlP4Efvv8L"
      },
      "source": [
        "x_val = x_train[:10000]\n",
        "partial_x_train = x_train[10000:]\n",
        "\n",
        "y_val = y_train[:10000]\n",
        "partial_y_train = y_train[10000:]"
      ],
      "execution_count": 17,
      "outputs": []
    },
    {
      "cell_type": "markdown",
      "metadata": {
        "collapsed": true,
        "id": "pbz-HzwHvv8N"
      },
      "source": [
        "We will now train our model for 20 epochs (20 iterations over all samples in the `x_train` and `y_train` tensors), in mini-batches of 512 \n",
        "samples. At this same time we will monitor loss and accuracy on the 10,000 samples that we set apart. This is done by passing the \n",
        "validation data as the `validation_data` argument:"
      ]
    },
    {
      "cell_type": "code",
      "metadata": {
        "id": "rx7TBt_2vv8O",
        "colab": {
          "base_uri": "https://localhost:8080/"
        },
        "outputId": "57937425-5977-4dc2-a70b-49da2fc4d020"
      },
      "source": [
        "history = model.fit(partial_x_train,\n",
        "                    partial_y_train,\n",
        "                    epochs=20,\n",
        "                    batch_size=512,\n",
        "                    validation_data=(x_val, y_val))"
      ],
      "execution_count": 18,
      "outputs": [
        {
          "output_type": "stream",
          "text": [
            "Epoch 1/20\n",
            "30/30 [==============================] - 1s 46ms/step - loss: 0.5425 - binary_accuracy: 0.7890 - val_loss: 0.4332 - val_binary_accuracy: 0.8579\n",
            "Epoch 2/20\n",
            "30/30 [==============================] - 1s 36ms/step - loss: 0.3421 - binary_accuracy: 0.8994 - val_loss: 0.3438 - val_binary_accuracy: 0.8730\n",
            "Epoch 3/20\n",
            "30/30 [==============================] - 1s 36ms/step - loss: 0.2511 - binary_accuracy: 0.9245 - val_loss: 0.2882 - val_binary_accuracy: 0.8901\n",
            "Epoch 4/20\n",
            "30/30 [==============================] - 1s 34ms/step - loss: 0.1989 - binary_accuracy: 0.9378 - val_loss: 0.2749 - val_binary_accuracy: 0.8900\n",
            "Epoch 5/20\n",
            "30/30 [==============================] - 1s 35ms/step - loss: 0.1624 - binary_accuracy: 0.9501 - val_loss: 0.2743 - val_binary_accuracy: 0.8892\n",
            "Epoch 6/20\n",
            "30/30 [==============================] - 1s 35ms/step - loss: 0.1360 - binary_accuracy: 0.9583 - val_loss: 0.2990 - val_binary_accuracy: 0.8802\n",
            "Epoch 7/20\n",
            "30/30 [==============================] - 1s 37ms/step - loss: 0.1141 - binary_accuracy: 0.9663 - val_loss: 0.2931 - val_binary_accuracy: 0.8854\n",
            "Epoch 8/20\n",
            "30/30 [==============================] - 1s 36ms/step - loss: 0.0936 - binary_accuracy: 0.9737 - val_loss: 0.3065 - val_binary_accuracy: 0.8865\n",
            "Epoch 9/20\n",
            "30/30 [==============================] - 1s 37ms/step - loss: 0.0793 - binary_accuracy: 0.9797 - val_loss: 0.3258 - val_binary_accuracy: 0.8844\n",
            "Epoch 10/20\n",
            "30/30 [==============================] - 1s 36ms/step - loss: 0.0663 - binary_accuracy: 0.9835 - val_loss: 0.3597 - val_binary_accuracy: 0.8737\n",
            "Epoch 11/20\n",
            "30/30 [==============================] - 1s 36ms/step - loss: 0.0550 - binary_accuracy: 0.9871 - val_loss: 0.3680 - val_binary_accuracy: 0.8817\n",
            "Epoch 12/20\n",
            "30/30 [==============================] - 1s 37ms/step - loss: 0.0441 - binary_accuracy: 0.9906 - val_loss: 0.4151 - val_binary_accuracy: 0.8755\n",
            "Epoch 13/20\n",
            "30/30 [==============================] - 1s 34ms/step - loss: 0.0362 - binary_accuracy: 0.9931 - val_loss: 0.4292 - val_binary_accuracy: 0.8759\n",
            "Epoch 14/20\n",
            "30/30 [==============================] - 1s 34ms/step - loss: 0.0286 - binary_accuracy: 0.9948 - val_loss: 0.4466 - val_binary_accuracy: 0.8753\n",
            "Epoch 15/20\n",
            "30/30 [==============================] - 1s 35ms/step - loss: 0.0224 - binary_accuracy: 0.9963 - val_loss: 0.4750 - val_binary_accuracy: 0.8693\n",
            "Epoch 16/20\n",
            "30/30 [==============================] - 1s 34ms/step - loss: 0.0162 - binary_accuracy: 0.9983 - val_loss: 0.5053 - val_binary_accuracy: 0.8703\n",
            "Epoch 17/20\n",
            "30/30 [==============================] - 1s 35ms/step - loss: 0.0133 - binary_accuracy: 0.9982 - val_loss: 0.5389 - val_binary_accuracy: 0.8731\n",
            "Epoch 18/20\n",
            "30/30 [==============================] - 1s 35ms/step - loss: 0.0104 - binary_accuracy: 0.9989 - val_loss: 0.5720 - val_binary_accuracy: 0.8657\n",
            "Epoch 19/20\n",
            "30/30 [==============================] - 1s 37ms/step - loss: 0.0065 - binary_accuracy: 0.9998 - val_loss: 0.6042 - val_binary_accuracy: 0.8695\n",
            "Epoch 20/20\n",
            "30/30 [==============================] - 1s 36ms/step - loss: 0.0065 - binary_accuracy: 0.9993 - val_loss: 0.6341 - val_binary_accuracy: 0.8680\n"
          ],
          "name": "stdout"
        }
      ]
    },
    {
      "cell_type": "markdown",
      "metadata": {
        "id": "xnPmLdKsvv8Q"
      },
      "source": [
        "On CPU, this will take less than two seconds per epoch -- training is over in 20 seconds. At the end of every epoch, there is a slight pause \n",
        "as the model computes its loss and accuracy on the 10,000 samples of the validation data.\n",
        "\n",
        "Note that the call to `model.fit()` returns a `History` object. This object has a member `history`, which is a dictionary containing data \n",
        "about everything that happened during training. Let's take a look at it:"
      ]
    },
    {
      "cell_type": "code",
      "metadata": {
        "id": "ObTIe1Idvv8Q",
        "colab": {
          "base_uri": "https://localhost:8080/"
        },
        "outputId": "c02b9f3b-8da8-40f1-d1a5-481489b2b282"
      },
      "source": [
        "history_dict = history.history\n",
        "history_dict.keys()"
      ],
      "execution_count": 19,
      "outputs": [
        {
          "output_type": "execute_result",
          "data": {
            "text/plain": [
              "dict_keys(['loss', 'binary_accuracy', 'val_loss', 'val_binary_accuracy'])"
            ]
          },
          "metadata": {
            "tags": []
          },
          "execution_count": 19
        }
      ]
    },
    {
      "cell_type": "markdown",
      "metadata": {
        "id": "qUAHlXgZvv8T"
      },
      "source": [
        "It contains 4 entries: one per metric that was being monitored, during training and during validation. Let's use Matplotlib to plot the \n",
        "training and validation loss side by side, as well as the training and validation accuracy:"
      ]
    },
    {
      "cell_type": "code",
      "metadata": {
        "id": "nZj8ujlRvv8T",
        "colab": {
          "base_uri": "https://localhost:8080/",
          "height": 295
        },
        "outputId": "66b520ab-60cb-47bb-8754-d7fe263e96dc"
      },
      "source": [
        "import matplotlib.pyplot as plt\n",
        "\n",
        "acc = history.history['binary_accuracy']\n",
        "val_acc = history.history['val_binary_accuracy']\n",
        "loss = history.history['loss']\n",
        "val_loss = history.history['val_loss']\n",
        "\n",
        "epochs = range(1, len(acc) + 1)\n",
        "\n",
        "# \"bo\" is for \"blue dot\"\n",
        "plt.plot(epochs, loss, 'bo', label='Training loss')\n",
        "# b is for \"solid blue line\"\n",
        "plt.plot(epochs, val_loss, 'b', label='Validation loss')\n",
        "plt.title('Training and validation loss')\n",
        "plt.xlabel('Epochs')\n",
        "plt.ylabel('Loss')\n",
        "plt.legend()\n",
        "\n",
        "plt.show()"
      ],
      "execution_count": 20,
      "outputs": [
        {
          "output_type": "display_data",
          "data": {
            "image/png": "[encoded data removed]",
            "text/plain": [
              "<Figure size 432x288 with 1 Axes>"
            ]
          },
          "metadata": {
            "tags": [],
            "needs_background": "light"
          }
        }
      ]
    },
    {
      "cell_type": "code",
      "metadata": {
        "id": "8i14Hil0vv8V",
        "colab": {
          "base_uri": "https://localhost:8080/",
          "height": 295
        },
        "outputId": "92970bc3-2ac7-48a6-df0b-77542cf792c9"
      },
      "source": [
        "plt.clf()   # clear figure\n",
        "acc_values = history_dict['binary_accuracy']\n",
        "val_acc_values = history_dict['val_binary_accuracy']\n",
        "\n",
        "plt.plot(epochs, acc, 'bo', label='Training acc')\n",
        "plt.plot(epochs, val_acc, 'b', label='Validation acc')\n",
        "plt.title('Training and validation accuracy')\n",
        "plt.xlabel('Epochs')\n",
        "plt.ylabel('Loss')\n",
        "plt.legend()\n",
        "\n",
        "plt.show()"
      ],
      "execution_count": 21,
      "outputs": [
        {
          "output_type": "display_data",
          "data": {
            "image/png": "[encoded data removed]",
            "text/plain": [
              "<Figure size 432x288 with 1 Axes>"
            ]
          },
          "metadata": {
            "tags": [],
            "needs_background": "light"
          }
        }
      ]
    },
    {
      "cell_type": "markdown",
      "metadata": {
        "id": "Ui7okxGFvv8X"
      },
      "source": [
        "\n",
        "The dots are the training loss and accuracy, while the solid lines are the validation loss and accuracy. Note that your own results may vary \n",
        "slightly due to a different random initialization of your network.\n",
        "\n",
        "As you can see, the training loss decreases with every epoch and the training accuracy increases with every epoch. That's what you would \n",
        "expect when running gradient descent optimization -- the quantity you are trying to minimize should get lower with every iteration. But that \n",
        "isn't the case for the validation loss and accuracy: they seem to peak at the fourth epoch. This is an example of what we were warning \n",
        "against earlier: a model that performs better on the training data isn't necessarily a model that will do better on data it has never seen \n",
        "before. In precise terms, what you are seeing is \"overfitting\": after the second epoch, we are over-optimizing on the training data, and we \n",
        "ended up learning representations that are specific to the training data and do not generalize to data outside of the training set.\n",
        "\n",
        "In this case, to prevent overfitting, we could simply stop training after three epochs. In general, there is a range of techniques you can \n",
        "leverage to mitigate overfitting, which we will cover in the next chapter.\n",
        "\n",
        "Let's train a new network from scratch for four epochs, then evaluate it on our test data:"
      ]
    },
    {
      "cell_type": "code",
      "metadata": {
        "id": "2Kmq6ly0vv8Y",
        "colab": {
          "base_uri": "https://localhost:8080/"
        },
        "outputId": "3f7bc283-eaff-42cd-d43a-42a8774d7710"
      },
      "source": [
        "model = models.Sequential()\n",
        "model.add(layers.Dense(16, activation='relu', input_shape=(10000,)))\n",
        "model.add(layers.Dense(16, activation='relu'))\n",
        "model.add(layers.Dense(1, activation='sigmoid'))\n",
        "\n",
        "model.compile(optimizer='rmsprop',\n",
        "              loss='binary_crossentropy',\n",
        "              metrics=['accuracy'])\n",
        "\n",
        "model.fit(x_train, y_train, epochs=4, batch_size=512)\n",
        "results = model.evaluate(x_test, y_test)"
      ],
      "execution_count": 22,
      "outputs": [
        {
          "output_type": "stream",
          "text": [
            "Epoch 1/4\n",
            "49/49 [==============================] - 1s 27ms/step - loss: 0.4418 - accuracy: 0.8258\n",
            "Epoch 2/4\n",
            "49/49 [==============================] - 1s 28ms/step - loss: 0.2531 - accuracy: 0.9106\n",
            "Epoch 3/4\n",
            "49/49 [==============================] - 1s 26ms/step - loss: 0.1979 - accuracy: 0.9281\n",
            "Epoch 4/4\n",
            "49/49 [==============================] - 1s 27ms/step - loss: 0.1668 - accuracy: 0.9410\n",
            "782/782 [==============================] - 1s 2ms/step - loss: 0.2960 - accuracy: 0.8838\n"
          ],
          "name": "stdout"
        }
      ]
    },
    {
      "cell_type": "code",
      "metadata": {
        "id": "YvD4u99pvv8a",
        "colab": {
          "base_uri": "https://localhost:8080/"
        },
        "outputId": "00b37b9c-0de8-47cf-f3b6-d032a6b66a20"
      },
      "source": [
        "results"
      ],
      "execution_count": 23,
      "outputs": [
        {
          "output_type": "execute_result",
          "data": {
            "text/plain": [
              "[0.29599684476852417, 0.8838000297546387]"
            ]
          },
          "metadata": {
            "tags": []
          },
          "execution_count": 23
        }
      ]
    },
    {
      "cell_type": "markdown",
      "metadata": {
        "id": "YgnEBPUUvv8d"
      },
      "source": [
        "Our fairly naive approach achieves an accuracy of 88%. With state-of-the-art approaches, one should be able to get close to 95%."
      ]
    },
    {
      "cell_type": "markdown",
      "metadata": {
        "id": "Wc3QAkLFvv8d"
      },
      "source": [
        "## Using a trained network to generate predictions on new data\n",
        "\n",
        "After having trained a network, you will want to use it in a practical setting. You can generate the likelihood of reviews being positive \n",
        "by using the `predict` method:"
      ]
    },
    {
      "cell_type": "code",
      "metadata": {
        "id": "qdsBmVb2vv8d",
        "colab": {
          "base_uri": "https://localhost:8080/"
        },
        "outputId": "ab7f352e-e76a-4468-85fc-9b5d5d6d7016"
      },
      "source": [
        "model.predict(x_test)"
      ],
      "execution_count": 24,
      "outputs": [
        {
          "output_type": "execute_result",
          "data": {
            "text/plain": [
              "array([[0.2186746 ],\n",
              "       [0.9999496 ],\n",
              "       [0.89135784],\n",
              "       ...,\n",
              "       [0.1288006 ],\n",
              "       [0.08217201],\n",
              "       [0.7397591 ]], dtype=float32)"
            ]
          },
          "metadata": {
            "tags": []
          },
          "execution_count": 24
        }
      ]
    },
    {
      "cell_type": "markdown",
      "metadata": {
        "id": "hyts1NN9vv8g"
      },
      "source": [
        "As you can see, the network is very confident for some samples (0.99 or more, or 0.01 or less) but less confident for others (0.6, 0.4). \n"
      ]
    },
    {
      "cell_type": "markdown",
      "metadata": {
        "id": "yKHwek2Kvv8g"
      },
      "source": [
        "## Further experiments\n",
        "\n",
        "\n",
        "* We were using 2 hidden layers. Try to use 1 or 3 hidden layers and see how it affects validation and test accuracy.\n",
        "* Try to use layers with more hidden units or less hidden units: 32 units, 64 units...\n",
        "* Try to use the `mse` loss function instead of `binary_crossentropy`.\n",
        "* Try to use the `tanh` activation (an activation that was popular in the early days of neural networks) instead of `relu`.\n",
        "\n",
        "These experiments will help convince you that the architecture choices we have made are all fairly reasonable, although they can still be \n",
        "improved!"
      ]
    },
    {
      "cell_type": "markdown",
      "metadata": {
        "id": "0qP4WQsRvv8g"
      },
      "source": [
        "## Conclusions\n",
        "\n",
        "\n",
        "Here's what you should take away from this example:\n",
        "\n",
        "* There's usually quite a bit of preprocessing you need to do on your raw data in order to be able to feed it -- as tensors -- into a neural \n",
        "network. In the case of sequences of words, they can be encoded as binary vectors -- but there are other encoding options too.\n",
        "* Stacks of `Dense` layers with `relu` activations can solve a wide range of problems (including sentiment classification), and you will \n",
        "likely use them frequently.\n",
        "* In a binary classification problem (two output classes), your network should end with a `Dense` layer with 1 unit and a `sigmoid` activation, \n",
        "i.e. the output of your network should be a scalar between 0 and 1, encoding a probability.\n",
        "* With such a scalar sigmoid output, on a binary classification problem, the loss function you should use is `binary_crossentropy`.\n",
        "* The `rmsprop` optimizer is generally a good enough choice of optimizer, whatever your problem. That's one less thing for you to worry \n",
        "about.\n",
        "* As they get better on their training data, neural networks eventually start _overfitting_ and end up obtaining increasingly worse results on data \n",
        "never-seen-before. Make sure to always monitor performance on data that is outside of the training set.\n"
      ]
    },
    {
      "cell_type": "markdown",
      "metadata": {
        "id": "z0WkOyMykOnN"
      },
      "source": [
        "## Define custom functions"
      ]
    },
    {
      "cell_type": "code",
      "metadata": {
        "id": "whqzJQyQBZqU"
      },
      "source": [
        "# define a function for ploting and measuring best epoch number\n",
        "def val_plot(plt, hist, style=1):\n",
        "  acc = hist.history['binary_accuracy']\n",
        "  val_acc = hist.history['val_binary_accuracy']\n",
        "  loss = hist.history['loss']\n",
        "  val_loss = hist.history['val_loss']\n",
        " \n",
        "  epochs = range(1, len(acc) + 1)\n",
        "  if style ==1:   # 2 plots side by side\n",
        "    plt.rcParams[\"figure.figsize\"] = (12,4.0)\n",
        "    plt.subplot(1,2,1)\n",
        "    # \"bo\" is for \"blue dot\"\n",
        "    plt.plot(epochs, loss, 'bo', label='Training loss')\n",
        "    # b is for \"solid blue line\"\n",
        "    plt.plot(epochs, val_loss, 'b', label='Validation loss')\n",
        "    plt.title('Training and validation loss')\n",
        "    plt.xlabel('Epochs')\n",
        "    plt.ylabel('Loss')\n",
        "    plt.legend()\n",
        " \n",
        "    plt.subplot(1,2,2)\n",
        "    plt.plot(epochs, acc, 'ro', label='Training acc')\n",
        "    plt.plot(epochs, val_acc, 'r', label='Validation acc')\n",
        "    plt.title('Training and validation accuracy')\n",
        "    plt.xlabel('Epochs')\n",
        "    plt.ylabel('Loss')\n",
        "    plt.legend()\n",
        "  else:  # 1 plot with 2 Y-axis\n",
        "    plt.rcParams[\"figure.figsize\"] = (12,4.0)\n",
        "    fig, ax1 = plt.subplots()\n",
        "    ax2 = ax1.twinx()\n",
        "    l1=ax1.plot(epochs, loss, 'bo', label='Training loss')\n",
        "    l2=ax1.plot(epochs, val_loss, 'b', label='Validation loss')\n",
        "    l3=ax2.plot(epochs, acc, 'ro', label='Training acc')\n",
        "    l4=ax2.plot(epochs, val_acc, 'r', label='Validation acc')\n",
        "    lns = l1+l2+l3+l4\n",
        "    labs = (l.get_label() for l in lns)\n",
        "    ax1.set_xlabel('Epochs')\n",
        "    ax1.set_ylabel('Loss')\n",
        "    ax2.set_ylabel('Accuracy')\n",
        "    ax1.legend(lns, labs, loc='center right')\n",
        " \n",
        "  plt.show()\n",
        " \n",
        "  loss_best= np.argmin(hist.history['val_loss'])+1\n",
        "  acc_best=np.argmax(hist.history['val_binary_accuracy'])+1\n",
        "  print('Best epoche for val_loss:{}'.format(loss_best))\n",
        "  print('Best epoche for val_accr:{}'.format( acc_best))  \n",
        " \n",
        "def highlight_max(data, color='yellow', colmax='Accuracy', colmin='Loss'):\n",
        "    attr = 'background-color: {}'.format(color)\n",
        "    if data.name == colmax:\n",
        "        is_max = data == data.max()\n",
        "        return [attr if v else '' for v in is_max]\n",
        "    elif data.name == colmin:\n",
        "        is_min = data == data.min()\n",
        "        return [attr if v else '' for v in is_min]"
      ],
      "execution_count": 25,
      "outputs": []
    },
    {
      "cell_type": "markdown",
      "metadata": {
        "id": "D0gfQE82_wr2"
      },
      "source": [
        "# Experiment 1 - Using 1 or 3 Hidden Layers"
      ]
    },
    {
      "cell_type": "markdown",
      "metadata": {
        "id": "_UHxUI5LlXLg"
      },
      "source": [
        "## Use 1 hideen layer"
      ]
    },
    {
      "cell_type": "code",
      "metadata": {
        "id": "0tRPWdxL_p0f",
        "colab": {
          "base_uri": "https://localhost:8080/",
          "height": 1000
        },
        "outputId": "bfc04cf4-762a-4533-97c0-b333ced43d08"
      },
      "source": [
        "model = models.Sequential()\n",
        "model.add(layers.Dense(16, activation='relu', input_shape=(10000,)))\n",
        "# model_1_layer.add(layers.Dense(16, activation='relu'))\n",
        "model.add(layers.Dense(1, activation='sigmoid'))\n",
        " \n",
        "model.compile(optimizer=optimizers.RMSprop(lr=0.001),\n",
        "              loss=losses.binary_crossentropy,\n",
        "              metrics=[metrics.binary_accuracy])\n",
        " \n",
        "history_1_layer = model.fit(partial_x_train,\n",
        "                    partial_y_train,\n",
        "                    epochs=20,\n",
        "                    batch_size=512,\n",
        "                    validation_data=(x_val, y_val))\n",
        "val_plot(plt, history_1_layer,1)"
      ],
      "execution_count": 26,
      "outputs": [
        {
          "output_type": "stream",
          "text": [
            "Epoch 1/20\n",
            "30/30 [==============================] - 1s 38ms/step - loss: 0.5101 - binary_accuracy: 0.7998 - val_loss: 0.4068 - val_binary_accuracy: 0.8636\n",
            "Epoch 2/20\n",
            "30/30 [==============================] - 1s 32ms/step - loss: 0.3336 - binary_accuracy: 0.8999 - val_loss: 0.3328 - val_binary_accuracy: 0.8784\n",
            "Epoch 3/20\n",
            "30/30 [==============================] - 1s 32ms/step - loss: 0.2579 - binary_accuracy: 0.9204 - val_loss: 0.2952 - val_binary_accuracy: 0.8885\n",
            "Epoch 4/20\n",
            "30/30 [==============================] - 1s 32ms/step - loss: 0.2108 - binary_accuracy: 0.9344 - val_loss: 0.2799 - val_binary_accuracy: 0.8905\n",
            "Epoch 5/20\n",
            "30/30 [==============================] - 1s 32ms/step - loss: 0.1784 - binary_accuracy: 0.9465 - val_loss: 0.2737 - val_binary_accuracy: 0.8909\n",
            "Epoch 6/20\n",
            "30/30 [==============================] - 1s 31ms/step - loss: 0.1543 - binary_accuracy: 0.9527 - val_loss: 0.2826 - val_binary_accuracy: 0.8856\n",
            "Epoch 7/20\n",
            "30/30 [==============================] - 1s 31ms/step - loss: 0.1355 - binary_accuracy: 0.9599 - val_loss: 0.2776 - val_binary_accuracy: 0.8903\n",
            "Epoch 8/20\n",
            "30/30 [==============================] - 1s 32ms/step - loss: 0.1190 - binary_accuracy: 0.9652 - val_loss: 0.2845 - val_binary_accuracy: 0.8873\n",
            "Epoch 9/20\n",
            "30/30 [==============================] - 1s 31ms/step - loss: 0.1052 - binary_accuracy: 0.9712 - val_loss: 0.3056 - val_binary_accuracy: 0.8849\n",
            "Epoch 10/20\n",
            "30/30 [==============================] - 1s 31ms/step - loss: 0.0940 - binary_accuracy: 0.9743 - val_loss: 0.3023 - val_binary_accuracy: 0.8860\n",
            "Epoch 11/20\n",
            "30/30 [==============================] - 1s 32ms/step - loss: 0.0824 - binary_accuracy: 0.9785 - val_loss: 0.3281 - val_binary_accuracy: 0.8802\n",
            "Epoch 12/20\n",
            "30/30 [==============================] - 1s 33ms/step - loss: 0.0732 - binary_accuracy: 0.9821 - val_loss: 0.3316 - val_binary_accuracy: 0.8782\n",
            "Epoch 13/20\n",
            "30/30 [==============================] - 1s 33ms/step - loss: 0.0652 - binary_accuracy: 0.9857 - val_loss: 0.3398 - val_binary_accuracy: 0.8813\n",
            "Epoch 14/20\n",
            "30/30 [==============================] - 1s 34ms/step - loss: 0.0581 - binary_accuracy: 0.9875 - val_loss: 0.3575 - val_binary_accuracy: 0.8764\n",
            "Epoch 15/20\n",
            "30/30 [==============================] - 1s 32ms/step - loss: 0.0515 - binary_accuracy: 0.9895 - val_loss: 0.3700 - val_binary_accuracy: 0.8787\n",
            "Epoch 16/20\n",
            "30/30 [==============================] - 1s 32ms/step - loss: 0.0456 - binary_accuracy: 0.9911 - val_loss: 0.3857 - val_binary_accuracy: 0.8761\n",
            "Epoch 17/20\n",
            "30/30 [==============================] - 1s 32ms/step - loss: 0.0404 - binary_accuracy: 0.9932 - val_loss: 0.4026 - val_binary_accuracy: 0.8749\n",
            "Epoch 18/20\n",
            "30/30 [==============================] - 1s 33ms/step - loss: 0.0352 - binary_accuracy: 0.9941 - val_loss: 0.4232 - val_binary_accuracy: 0.8749\n",
            "Epoch 19/20\n",
            "30/30 [==============================] - 1s 33ms/step - loss: 0.0312 - binary_accuracy: 0.9950 - val_loss: 0.4442 - val_binary_accuracy: 0.8702\n",
            "Epoch 20/20\n",
            "30/30 [==============================] - 1s 33ms/step - loss: 0.0267 - binary_accuracy: 0.9965 - val_loss: 0.4630 - val_binary_accuracy: 0.8701\n"
          ],
          "name": "stdout"
        },
        {
          "output_type": "display_data",
          "data": {
            "image/png": "[encoded data removed]",
            "text/plain": [
              "<Figure size 864x288 with 2 Axes>"
            ]
          },
          "metadata": {
            "tags": [],
            "needs_background": "light"
          }
        },
        {
          "output_type": "stream",
          "text": [
            "Best epoche for val_loss:5\n",
            "Best epoche for val_accr:5\n"
          ],
          "name": "stdout"
        }
      ]
    },
    {
      "cell_type": "markdown",
      "metadata": {
        "id": "YiTcSdkpIupI"
      },
      "source": [
        "After reduced to 1 hidden layer, validation loss and accuracy seem to peak at 4th epoch. \"Overfitting\" starts after 4th epoch.  I am going to re-train the model for 4 epochs."
      ]
    },
    {
      "cell_type": "code",
      "metadata": {
        "id": "0sGA_aBHHBbn",
        "colab": {
          "base_uri": "https://localhost:8080/"
        },
        "outputId": "492661bb-aae2-44ee-d99a-7cae21549986"
      },
      "source": [
        "model.fit(partial_x_train,\n",
        "                  partial_y_train,\n",
        "                  epochs=4,\n",
        "                  batch_size=512,\n",
        "                  validation_data=(x_val, y_val))\n",
        "results_1_layer=model.evaluate(x_test, y_test)\n",
        "results_1_layer"
      ],
      "execution_count": 27,
      "outputs": [
        {
          "output_type": "stream",
          "text": [
            "Epoch 1/4\n",
            "30/30 [==============================] - 1s 40ms/step - loss: 0.0235 - binary_accuracy: 0.9971 - val_loss: 0.4807 - val_binary_accuracy: 0.8700\n",
            "Epoch 2/4\n",
            "30/30 [==============================] - 1s 35ms/step - loss: 0.0203 - binary_accuracy: 0.9974 - val_loss: 0.5075 - val_binary_accuracy: 0.8671\n",
            "Epoch 3/4\n",
            "30/30 [==============================] - 1s 34ms/step - loss: 0.0178 - binary_accuracy: 0.9988 - val_loss: 0.5253 - val_binary_accuracy: 0.8687\n",
            "Epoch 4/4\n",
            "30/30 [==============================] - 1s 33ms/step - loss: 0.0151 - binary_accuracy: 0.9993 - val_loss: 0.5466 - val_binary_accuracy: 0.8666\n",
            "782/782 [==============================] - 2s 2ms/step - loss: 0.5950 - binary_accuracy: 0.8536\n"
          ],
          "name": "stdout"
        },
        {
          "output_type": "execute_result",
          "data": {
            "text/plain": [
              "[0.5949580073356628, 0.8535599708557129]"
            ]
          },
          "metadata": {
            "tags": []
          },
          "execution_count": 27
        }
      ]
    },
    {
      "cell_type": "markdown",
      "metadata": {
        "id": "9zJfhWqqUh99"
      },
      "source": [
        "## Summary \n",
        "In 1 hiden layer approach, the accuracy has decreased by 2% and loss has increased significantly."
      ]
    },
    {
      "cell_type": "markdown",
      "metadata": {
        "id": "9EUFZxm9VG_N"
      },
      "source": [
        "## Use 3 layer"
      ]
    },
    {
      "cell_type": "code",
      "metadata": {
        "id": "qZS9QSG6VU9s",
        "colab": {
          "base_uri": "https://localhost:8080/",
          "height": 1000
        },
        "outputId": "c3b374c4-c8ae-4432-a067-b51e932acf57"
      },
      "source": [
        "model = models.Sequential()\n",
        "model.add(layers.Dense(16, activation='relu', input_shape=(10000,)))\n",
        "model.add(layers.Dense(16, activation='relu'))\n",
        "model.add(layers.Dense(16, activation='relu'))\n",
        "model.add(layers.Dense(1, activation='sigmoid'))\n",
        " \n",
        "model.compile(optimizer=optimizers.RMSprop(lr=0.001),\n",
        "              loss=losses.binary_crossentropy,\n",
        "              metrics=[metrics.binary_accuracy])\n",
        " \n",
        "history_3_layer = model.fit(partial_x_train,\n",
        "                    partial_y_train,\n",
        "                    epochs=20,\n",
        "                    batch_size=512,\n",
        "                    validation_data=(x_val, y_val))\n",
        "val_plot(plt, history_3_layer, 1)"
      ],
      "execution_count": 28,
      "outputs": [
        {
          "output_type": "stream",
          "text": [
            "Epoch 1/20\n",
            "30/30 [==============================] - 1s 46ms/step - loss: 0.5486 - binary_accuracy: 0.7875 - val_loss: 0.4146 - val_binary_accuracy: 0.8702\n",
            "Epoch 2/20\n",
            "30/30 [==============================] - 1s 35ms/step - loss: 0.3260 - binary_accuracy: 0.9009 - val_loss: 0.3838 - val_binary_accuracy: 0.8319\n",
            "Epoch 3/20\n",
            "30/30 [==============================] - 1s 34ms/step - loss: 0.2303 - binary_accuracy: 0.9256 - val_loss: 0.2821 - val_binary_accuracy: 0.8906\n",
            "Epoch 4/20\n",
            "30/30 [==============================] - 1s 35ms/step - loss: 0.1802 - binary_accuracy: 0.9407 - val_loss: 0.2771 - val_binary_accuracy: 0.8894\n",
            "Epoch 5/20\n",
            "30/30 [==============================] - 1s 37ms/step - loss: 0.1437 - binary_accuracy: 0.9531 - val_loss: 0.2924 - val_binary_accuracy: 0.8866\n",
            "Epoch 6/20\n",
            "30/30 [==============================] - 1s 35ms/step - loss: 0.1173 - binary_accuracy: 0.9638 - val_loss: 0.3021 - val_binary_accuracy: 0.8869\n",
            "Epoch 7/20\n",
            "30/30 [==============================] - 1s 33ms/step - loss: 0.0971 - binary_accuracy: 0.9714 - val_loss: 0.3204 - val_binary_accuracy: 0.8832\n",
            "Epoch 8/20\n",
            "30/30 [==============================] - 1s 33ms/step - loss: 0.0756 - binary_accuracy: 0.9793 - val_loss: 0.3915 - val_binary_accuracy: 0.8739\n",
            "Epoch 9/20\n",
            "30/30 [==============================] - 1s 35ms/step - loss: 0.0614 - binary_accuracy: 0.9835 - val_loss: 0.3719 - val_binary_accuracy: 0.8775\n",
            "Epoch 10/20\n",
            "30/30 [==============================] - 1s 35ms/step - loss: 0.0506 - binary_accuracy: 0.9880 - val_loss: 0.4272 - val_binary_accuracy: 0.8694\n",
            "Epoch 11/20\n",
            "30/30 [==============================] - 1s 35ms/step - loss: 0.0411 - binary_accuracy: 0.9905 - val_loss: 0.4309 - val_binary_accuracy: 0.8749\n",
            "Epoch 12/20\n",
            "30/30 [==============================] - 1s 35ms/step - loss: 0.0344 - binary_accuracy: 0.9919 - val_loss: 0.4649 - val_binary_accuracy: 0.8747\n",
            "Epoch 13/20\n",
            "30/30 [==============================] - 1s 35ms/step - loss: 0.0293 - binary_accuracy: 0.9927 - val_loss: 0.5040 - val_binary_accuracy: 0.8723\n",
            "Epoch 14/20\n",
            "30/30 [==============================] - 1s 34ms/step - loss: 0.0145 - binary_accuracy: 0.9985 - val_loss: 0.5764 - val_binary_accuracy: 0.8577\n",
            "Epoch 15/20\n",
            "30/30 [==============================] - 1s 34ms/step - loss: 0.0192 - binary_accuracy: 0.9950 - val_loss: 0.5710 - val_binary_accuracy: 0.8720\n",
            "Epoch 16/20\n",
            "30/30 [==============================] - 1s 35ms/step - loss: 0.0164 - binary_accuracy: 0.9960 - val_loss: 0.5971 - val_binary_accuracy: 0.8709\n",
            "Epoch 17/20\n",
            "30/30 [==============================] - 1s 33ms/step - loss: 0.0066 - binary_accuracy: 0.9993 - val_loss: 0.6270 - val_binary_accuracy: 0.8704\n",
            "Epoch 18/20\n",
            "30/30 [==============================] - 1s 34ms/step - loss: 0.0168 - binary_accuracy: 0.9958 - val_loss: 0.6758 - val_binary_accuracy: 0.8705\n",
            "Epoch 19/20\n",
            "30/30 [==============================] - 1s 35ms/step - loss: 0.0033 - binary_accuracy: 0.9995 - val_loss: 0.7022 - val_binary_accuracy: 0.8703\n",
            "Epoch 20/20\n",
            "30/30 [==============================] - 1s 34ms/step - loss: 0.0111 - binary_accuracy: 0.9963 - val_loss: 0.7361 - val_binary_accuracy: 0.8678\n"
          ],
          "name": "stdout"
        },
        {
          "output_type": "display_data",
          "data": {
            "image/png": "[encoded data removed]",
            "text/plain": [
              "<Figure size 864x288 with 2 Axes>"
            ]
          },
          "metadata": {
            "tags": [],
            "needs_background": "light"
          }
        },
        {
          "output_type": "stream",
          "text": [
            "Best epoche for val_loss:4\n",
            "Best epoche for val_accr:3\n"
          ],
          "name": "stdout"
        }
      ]
    },
    {
      "cell_type": "markdown",
      "metadata": {
        "id": "SxJWhPQffqIS"
      },
      "source": [
        "After increased to 3 hidden layers, \"Overfitting\" starts after 4th epoch.  I am going to re-train the model for 4 epochs."
      ]
    },
    {
      "cell_type": "code",
      "metadata": {
        "id": "QBUWwBLofpzk",
        "colab": {
          "base_uri": "https://localhost:8080/"
        },
        "outputId": "2c4bdc96-9835-4fcd-b541-af2d2d4967fa"
      },
      "source": [
        "model.fit(partial_x_train,\n",
        "                  partial_y_train,\n",
        "                  epochs=4,\n",
        "                  batch_size=512,\n",
        "                  validation_data=(x_val, y_val))\n",
        "results_3_layer=model.evaluate(x_test, y_test)\n",
        "results_3_layer"
      ],
      "execution_count": 29,
      "outputs": [
        {
          "output_type": "stream",
          "text": [
            "Epoch 1/4\n",
            "30/30 [==============================] - 1s 40ms/step - loss: 0.0018 - binary_accuracy: 0.9999 - val_loss: 0.7609 - val_binary_accuracy: 0.8689\n",
            "Epoch 2/4\n",
            "30/30 [==============================] - 1s 33ms/step - loss: 0.0014 - binary_accuracy: 0.9999 - val_loss: 0.8020 - val_binary_accuracy: 0.8675\n",
            "Epoch 3/4\n",
            "30/30 [==============================] - 1s 34ms/step - loss: 0.0102 - binary_accuracy: 0.9974 - val_loss: 0.8396 - val_binary_accuracy: 0.8656\n",
            "Epoch 4/4\n",
            "30/30 [==============================] - 1s 34ms/step - loss: 6.9178e-04 - binary_accuracy: 1.0000 - val_loss: 0.8583 - val_binary_accuracy: 0.8659\n",
            "782/782 [==============================] - 2s 2ms/step - loss: 0.9433 - binary_accuracy: 0.8490\n"
          ],
          "name": "stdout"
        },
        {
          "output_type": "execute_result",
          "data": {
            "text/plain": [
              "[0.9433196783065796, 0.8490399718284607]"
            ]
          },
          "metadata": {
            "tags": []
          },
          "execution_count": 29
        }
      ]
    },
    {
      "cell_type": "markdown",
      "metadata": {
        "id": "ngpjlv6PjCjv"
      },
      "source": [
        "## Comparison\n",
        "Below tale shows the comparision among different layout network setup, it appears that\n",
        "\n",
        "\n",
        " 2-layer network yields the best results in terms of Loss and Accuracy"
      ]
    },
    {
      "cell_type": "code",
      "metadata": {
        "id": "-IDFP-OGgXAS",
        "colab": {
          "base_uri": "https://localhost:8080/",
          "height": 103
        },
        "outputId": "4e9cc609-0426-4a07-a29a-82b9f9187ae9"
      },
      "source": [
        "df_layer=pd.DataFrame.from_dict(dict([('1-layer',results_1_layer), ('Baseline',results), ('3-layer',results_3_layer)]), \n",
        "                          orient='index', columns=['Loss','Accuracy'])\n",
        "df_layer.style.apply(highlight_max)"
      ],
      "execution_count": 30,
      "outputs": [
        {
          "output_type": "execute_result",
          "data": {
            "text/html": [
              "<style  type=\"text/css\" >\n",
              "#T_07973960_2f83_11eb_a3d7_0242ac1c0002row1_col0,#T_07973960_2f83_11eb_a3d7_0242ac1c0002row1_col1{\n",
              "            background-color:  yellow;\n",
              "        }</style><table id=\"T_07973960_2f83_11eb_a3d7_0242ac1c0002\" ><thead>    <tr>        <th class=\"blank level0\" ></th>        <th class=\"col_heading level0 col0\" >Loss</th>        <th class=\"col_heading level0 col1\" >Accuracy</th>    </tr></thead><tbody>\n",
              "                <tr>\n",
              "                        <th id=\"T_07973960_2f83_11eb_a3d7_0242ac1c0002level0_row0\" class=\"row_heading level0 row0\" >1-layer</th>\n",
              "                        <td id=\"T_07973960_2f83_11eb_a3d7_0242ac1c0002row0_col0\" class=\"data row0 col0\" >0.594958</td>\n",
              "                        <td id=\"T_07973960_2f83_11eb_a3d7_0242ac1c0002row0_col1\" class=\"data row0 col1\" >0.853560</td>\n",
              "            </tr>\n",
              "            <tr>\n",
              "                        <th id=\"T_07973960_2f83_11eb_a3d7_0242ac1c0002level0_row1\" class=\"row_heading level0 row1\" >Baseline</th>\n",
              "                        <td id=\"T_07973960_2f83_11eb_a3d7_0242ac1c0002row1_col0\" class=\"data row1 col0\" >0.295997</td>\n",
              "                        <td id=\"T_07973960_2f83_11eb_a3d7_0242ac1c0002row1_col1\" class=\"data row1 col1\" >0.883800</td>\n",
              "            </tr>\n",
              "            <tr>\n",
              "                        <th id=\"T_07973960_2f83_11eb_a3d7_0242ac1c0002level0_row2\" class=\"row_heading level0 row2\" >3-layer</th>\n",
              "                        <td id=\"T_07973960_2f83_11eb_a3d7_0242ac1c0002row2_col0\" class=\"data row2 col0\" >0.943320</td>\n",
              "                        <td id=\"T_07973960_2f83_11eb_a3d7_0242ac1c0002row2_col1\" class=\"data row2 col1\" >0.849040</td>\n",
              "            </tr>\n",
              "    </tbody></table>"
            ],
            "text/plain": [
              "<pandas.io.formats.style.Styler at 0x7f42a47c51d0>"
            ]
          },
          "metadata": {
            "tags": []
          },
          "execution_count": 30
        }
      ]
    },
    {
      "cell_type": "markdown",
      "metadata": {
        "id": "XG_zXPGIlhOG"
      },
      "source": [
        "# Experiment 2 - Using less or more Hidden Units (Eg. 32 or 64)"
      ]
    },
    {
      "cell_type": "markdown",
      "metadata": {
        "id": "GNZ2v-wrlhfu"
      },
      "source": [
        "## Use 32 hidden units"
      ]
    },
    {
      "cell_type": "code",
      "metadata": {
        "id": "0PrcjvsfltrQ",
        "colab": {
          "base_uri": "https://localhost:8080/",
          "height": 1000
        },
        "outputId": "6c49eaaa-3106-4f21-ae0b-8b3371a91c0d"
      },
      "source": [
        "model = models.Sequential()\n",
        "model.add(layers.Dense(32, activation='relu', input_shape=(10000,)))\n",
        "model.add(layers.Dense(32, activation='relu'))\n",
        "model.add(layers.Dense(1, activation='sigmoid'))\n",
        " \n",
        "model.compile(optimizer=optimizers.RMSprop(lr=0.001),\n",
        "              loss=losses.binary_crossentropy,\n",
        "              metrics=[metrics.binary_accuracy])\n",
        " \n",
        "history_32_unit = model.fit(partial_x_train,\n",
        "                    partial_y_train,\n",
        "                    epochs=20,\n",
        "                    batch_size=512,\n",
        "                    validation_data=(x_val, y_val))\n",
        "val_plot(plt, history_32_unit,1)"
      ],
      "execution_count": 31,
      "outputs": [
        {
          "output_type": "stream",
          "text": [
            "Epoch 1/20\n",
            "30/30 [==============================] - 1s 46ms/step - loss: 0.4984 - binary_accuracy: 0.7887 - val_loss: 0.3609 - val_binary_accuracy: 0.8660\n",
            "Epoch 2/20\n",
            "30/30 [==============================] - 1s 40ms/step - loss: 0.2778 - binary_accuracy: 0.9053 - val_loss: 0.2891 - val_binary_accuracy: 0.8860\n",
            "Epoch 3/20\n",
            "30/30 [==============================] - 1s 44ms/step - loss: 0.1993 - binary_accuracy: 0.9307 - val_loss: 0.2774 - val_binary_accuracy: 0.8890\n",
            "Epoch 4/20\n",
            "30/30 [==============================] - 1s 41ms/step - loss: 0.1552 - binary_accuracy: 0.9451 - val_loss: 0.3193 - val_binary_accuracy: 0.8765\n",
            "Epoch 5/20\n",
            "30/30 [==============================] - 1s 40ms/step - loss: 0.1221 - binary_accuracy: 0.9603 - val_loss: 0.3010 - val_binary_accuracy: 0.8838\n",
            "Epoch 6/20\n",
            "30/30 [==============================] - 1s 41ms/step - loss: 0.1015 - binary_accuracy: 0.9661 - val_loss: 0.3745 - val_binary_accuracy: 0.8674\n",
            "Epoch 7/20\n",
            "30/30 [==============================] - 1s 41ms/step - loss: 0.0782 - binary_accuracy: 0.9765 - val_loss: 0.3476 - val_binary_accuracy: 0.8795\n",
            "Epoch 8/20\n",
            "30/30 [==============================] - 1s 42ms/step - loss: 0.0606 - binary_accuracy: 0.9833 - val_loss: 0.3841 - val_binary_accuracy: 0.8748\n",
            "Epoch 9/20\n",
            "30/30 [==============================] - 1s 41ms/step - loss: 0.0494 - binary_accuracy: 0.9856 - val_loss: 0.4074 - val_binary_accuracy: 0.8751\n",
            "Epoch 10/20\n",
            "30/30 [==============================] - 1s 40ms/step - loss: 0.0403 - binary_accuracy: 0.9891 - val_loss: 0.4429 - val_binary_accuracy: 0.8738\n",
            "Epoch 11/20\n",
            "30/30 [==============================] - 1s 42ms/step - loss: 0.0312 - binary_accuracy: 0.9918 - val_loss: 0.4824 - val_binary_accuracy: 0.8737\n",
            "Epoch 12/20\n",
            "30/30 [==============================] - 1s 40ms/step - loss: 0.0161 - binary_accuracy: 0.9979 - val_loss: 0.5260 - val_binary_accuracy: 0.8691\n",
            "Epoch 13/20\n",
            "30/30 [==============================] - 1s 42ms/step - loss: 0.0209 - binary_accuracy: 0.9943 - val_loss: 0.5542 - val_binary_accuracy: 0.8716\n",
            "Epoch 14/20\n",
            "30/30 [==============================] - 1s 45ms/step - loss: 0.0176 - binary_accuracy: 0.9959 - val_loss: 0.5916 - val_binary_accuracy: 0.8693\n",
            "Epoch 15/20\n",
            "30/30 [==============================] - 1s 45ms/step - loss: 0.0056 - binary_accuracy: 0.9998 - val_loss: 0.6283 - val_binary_accuracy: 0.8695\n",
            "Epoch 16/20\n",
            "30/30 [==============================] - 1s 45ms/step - loss: 0.0121 - binary_accuracy: 0.9961 - val_loss: 0.6700 - val_binary_accuracy: 0.8676\n",
            "Epoch 17/20\n",
            "30/30 [==============================] - 1s 47ms/step - loss: 0.0027 - binary_accuracy: 0.9999 - val_loss: 0.7086 - val_binary_accuracy: 0.8672\n",
            "Epoch 18/20\n",
            "30/30 [==============================] - 1s 45ms/step - loss: 0.0169 - binary_accuracy: 0.9953 - val_loss: 0.7522 - val_binary_accuracy: 0.8678\n",
            "Epoch 19/20\n",
            "30/30 [==============================] - 1s 46ms/step - loss: 0.0014 - binary_accuracy: 0.9999 - val_loss: 0.7740 - val_binary_accuracy: 0.8673\n",
            "Epoch 20/20\n",
            "30/30 [==============================] - 1s 45ms/step - loss: 0.0012 - binary_accuracy: 0.9999 - val_loss: 0.8789 - val_binary_accuracy: 0.8568\n"
          ],
          "name": "stdout"
        },
        {
          "output_type": "display_data",
          "data": {
            "image/png": "[encoded data removed]",
            "text/plain": [
              "<Figure size 864x288 with 2 Axes>"
            ]
          },
          "metadata": {
            "tags": [],
            "needs_background": "light"
          }
        },
        {
          "output_type": "stream",
          "text": [
            "Best epoche for val_loss:3\n",
            "Best epoche for val_accr:3\n"
          ],
          "name": "stdout"
        }
      ]
    },
    {
      "cell_type": "code",
      "metadata": {
        "id": "1-f4aoh1nQYf",
        "colab": {
          "base_uri": "https://localhost:8080/"
        },
        "outputId": "64989587-0323-4cfb-ec47-499b8f4b89c7"
      },
      "source": [
        "model.fit(partial_x_train,\n",
        "                  partial_y_train,\n",
        "                  epochs=4,\n",
        "                  batch_size=512,\n",
        "                  validation_data=(x_val, y_val))\n",
        "results_32_unit=model.evaluate(x_test, y_test)\n",
        "results_32_unit"
      ],
      "execution_count": 32,
      "outputs": [
        {
          "output_type": "stream",
          "text": [
            "Epoch 1/4\n",
            "30/30 [==============================] - 1s 50ms/step - loss: 0.0070 - binary_accuracy: 0.9974 - val_loss: 0.8345 - val_binary_accuracy: 0.8659\n",
            "Epoch 2/4\n",
            "30/30 [==============================] - 1s 47ms/step - loss: 6.8541e-04 - binary_accuracy: 0.9999 - val_loss: 0.8731 - val_binary_accuracy: 0.8653\n",
            "Epoch 3/4\n",
            "30/30 [==============================] - 1s 45ms/step - loss: 0.0096 - binary_accuracy: 0.9969 - val_loss: 0.9261 - val_binary_accuracy: 0.8659\n",
            "Epoch 4/4\n",
            "30/30 [==============================] - 1s 43ms/step - loss: 3.7324e-04 - binary_accuracy: 1.0000 - val_loss: 0.9377 - val_binary_accuracy: 0.8658\n",
            "782/782 [==============================] - 2s 3ms/step - loss: 1.0275 - binary_accuracy: 0.8475\n"
          ],
          "name": "stdout"
        },
        {
          "output_type": "execute_result",
          "data": {
            "text/plain": [
              "[1.027489423751831, 0.8474799990653992]"
            ]
          },
          "metadata": {
            "tags": []
          },
          "execution_count": 32
        }
      ]
    },
    {
      "cell_type": "markdown",
      "metadata": {
        "id": "NiABDGDdlxet"
      },
      "source": [
        "## Use 64 hidden units"
      ]
    },
    {
      "cell_type": "code",
      "metadata": {
        "id": "pv9IW22YnC1u",
        "colab": {
          "base_uri": "https://localhost:8080/",
          "height": 1000
        },
        "outputId": "a2e75ab7-e17d-424c-8c4c-3dedd7a1e252"
      },
      "source": [
        "model = models.Sequential()\n",
        "model.add(layers.Dense(64, activation='relu', input_shape=(10000,)))\n",
        "model.add(layers.Dense(64, activation='relu'))\n",
        "model.add(layers.Dense(1, activation='sigmoid'))\n",
        " \n",
        "model.compile(optimizer=optimizers.RMSprop(lr=0.001),\n",
        "              loss=losses.binary_crossentropy,\n",
        "              metrics=[metrics.binary_accuracy])\n",
        " \n",
        "history_64_unit = model.fit(partial_x_train,\n",
        "                    partial_y_train,\n",
        "                    epochs=20,\n",
        "                    batch_size=512,\n",
        "                    validation_data=(x_val, y_val))\n",
        "val_plot(plt, history_64_unit,1)"
      ],
      "execution_count": 33,
      "outputs": [
        {
          "output_type": "stream",
          "text": [
            "Epoch 1/20\n",
            "30/30 [==============================] - 2s 70ms/step - loss: 0.4821 - binary_accuracy: 0.7708 - val_loss: 0.3646 - val_binary_accuracy: 0.8462\n",
            "Epoch 2/20\n",
            "30/30 [==============================] - 2s 57ms/step - loss: 0.2607 - binary_accuracy: 0.9025 - val_loss: 0.3182 - val_binary_accuracy: 0.8677\n",
            "Epoch 3/20\n",
            "30/30 [==============================] - 2s 56ms/step - loss: 0.1869 - binary_accuracy: 0.9307 - val_loss: 0.2775 - val_binary_accuracy: 0.8886\n",
            "Epoch 4/20\n",
            "30/30 [==============================] - 2s 55ms/step - loss: 0.1419 - binary_accuracy: 0.9490 - val_loss: 0.2896 - val_binary_accuracy: 0.8883\n",
            "Epoch 5/20\n",
            "30/30 [==============================] - 2s 57ms/step - loss: 0.1131 - binary_accuracy: 0.9591 - val_loss: 0.3343 - val_binary_accuracy: 0.8828\n",
            "Epoch 6/20\n",
            "30/30 [==============================] - 2s 55ms/step - loss: 0.0792 - binary_accuracy: 0.9734 - val_loss: 0.4521 - val_binary_accuracy: 0.8538\n",
            "Epoch 7/20\n",
            "30/30 [==============================] - 2s 55ms/step - loss: 0.0680 - binary_accuracy: 0.9783 - val_loss: 0.3831 - val_binary_accuracy: 0.8759\n",
            "Epoch 8/20\n",
            "30/30 [==============================] - 2s 57ms/step - loss: 0.0497 - binary_accuracy: 0.9849 - val_loss: 0.4117 - val_binary_accuracy: 0.8756\n",
            "Epoch 9/20\n",
            "30/30 [==============================] - 2s 55ms/step - loss: 0.0184 - binary_accuracy: 0.9967 - val_loss: 0.4771 - val_binary_accuracy: 0.8738\n",
            "Epoch 10/20\n",
            "30/30 [==============================] - 2s 55ms/step - loss: 0.0498 - binary_accuracy: 0.9878 - val_loss: 0.5029 - val_binary_accuracy: 0.8770\n",
            "Epoch 11/20\n",
            "30/30 [==============================] - 2s 55ms/step - loss: 0.0061 - binary_accuracy: 0.9996 - val_loss: 0.5545 - val_binary_accuracy: 0.8754\n",
            "Epoch 12/20\n",
            "30/30 [==============================] - 2s 54ms/step - loss: 0.0319 - binary_accuracy: 0.9911 - val_loss: 0.5880 - val_binary_accuracy: 0.8722\n",
            "Epoch 13/20\n",
            "30/30 [==============================] - 2s 55ms/step - loss: 0.0026 - binary_accuracy: 0.9999 - val_loss: 0.6378 - val_binary_accuracy: 0.8736\n",
            "Epoch 14/20\n",
            "30/30 [==============================] - 2s 56ms/step - loss: 0.0319 - binary_accuracy: 0.9915 - val_loss: 0.6683 - val_binary_accuracy: 0.8700\n",
            "Epoch 15/20\n",
            "30/30 [==============================] - 2s 54ms/step - loss: 0.0012 - binary_accuracy: 0.9999 - val_loss: 0.7000 - val_binary_accuracy: 0.8711\n",
            "Epoch 16/20\n",
            "30/30 [==============================] - 2s 55ms/step - loss: 8.7636e-04 - binary_accuracy: 0.9999 - val_loss: 0.7547 - val_binary_accuracy: 0.8692\n",
            "Epoch 17/20\n",
            "30/30 [==============================] - 2s 57ms/step - loss: 5.0217e-04 - binary_accuracy: 0.9999 - val_loss: 0.8577 - val_binary_accuracy: 0.8713\n",
            "Epoch 18/20\n",
            "30/30 [==============================] - 2s 55ms/step - loss: 0.0362 - binary_accuracy: 0.9919 - val_loss: 0.8705 - val_binary_accuracy: 0.8712\n",
            "Epoch 19/20\n",
            "30/30 [==============================] - 2s 54ms/step - loss: 2.1060e-04 - binary_accuracy: 1.0000 - val_loss: 0.8925 - val_binary_accuracy: 0.8705\n",
            "Epoch 20/20\n",
            "30/30 [==============================] - 2s 53ms/step - loss: 1.6101e-04 - binary_accuracy: 1.0000 - val_loss: 0.9267 - val_binary_accuracy: 0.8701\n"
          ],
          "name": "stdout"
        },
        {
          "output_type": "display_data",
          "data": {
            "image/png": "[encoded data removed]",
            "text/plain": [
              "<Figure size 864x288 with 2 Axes>"
            ]
          },
          "metadata": {
            "tags": [],
            "needs_background": "light"
          }
        },
        {
          "output_type": "stream",
          "text": [
            "Best epoche for val_loss:3\n",
            "Best epoche for val_accr:3\n"
          ],
          "name": "stdout"
        }
      ]
    },
    {
      "cell_type": "code",
      "metadata": {
        "id": "FXD504DvnoCQ",
        "colab": {
          "base_uri": "https://localhost:8080/"
        },
        "outputId": "89bb22a8-0b76-42b0-cec7-d9e6d0811b14"
      },
      "source": [
        "model.fit(partial_x_train,\n",
        "                  partial_y_train,\n",
        "                  epochs=2,\n",
        "                  batch_size=512,\n",
        "                  validation_data=(x_val, y_val))\n",
        "results_64_unit=model.evaluate(x_test, y_test)\n",
        "results_64_unit"
      ],
      "execution_count": 34,
      "outputs": [
        {
          "output_type": "stream",
          "text": [
            "Epoch 1/2\n",
            "30/30 [==============================] - 2s 62ms/step - loss: 1.1207e-04 - binary_accuracy: 1.0000 - val_loss: 0.9837 - val_binary_accuracy: 0.8693\n",
            "Epoch 2/2\n",
            "30/30 [==============================] - 2s 55ms/step - loss: 0.0407 - binary_accuracy: 0.9923 - val_loss: 1.0298 - val_binary_accuracy: 0.8706\n",
            "782/782 [==============================] - 2s 3ms/step - loss: 1.1193 - binary_accuracy: 0.8542\n"
          ],
          "name": "stdout"
        },
        {
          "output_type": "execute_result",
          "data": {
            "text/plain": [
              "[1.1193283796310425, 0.8541600108146667]"
            ]
          },
          "metadata": {
            "tags": []
          },
          "execution_count": 34
        }
      ]
    },
    {
      "cell_type": "markdown",
      "metadata": {
        "id": "s1hRpQ4N-9jw"
      },
      "source": [
        "## Comparison\n",
        "Below tale shows that 16 hidden units appears to perform at the best."
      ]
    },
    {
      "cell_type": "code",
      "metadata": {
        "id": "4sYNL3Sj_Ltn",
        "colab": {
          "base_uri": "https://localhost:8080/",
          "height": 103
        },
        "outputId": "b33746fd-6697-4325-b7a2-3194fdc40ad7"
      },
      "source": [
        "df_unit=pd.DataFrame.from_dict(dict([('baseline',results), ('32_unit',results_32_unit), ('64_unit',results_64_unit)]), \n",
        "                          orient='index', columns=['Loss','Accuracy'])\n",
        "df_unit.style.apply(highlight_max)"
      ],
      "execution_count": 35,
      "outputs": [
        {
          "output_type": "execute_result",
          "data": {
            "text/html": [
              "<style  type=\"text/css\" >\n",
              "#T_370ba744_2f83_11eb_a3d7_0242ac1c0002row0_col0,#T_370ba744_2f83_11eb_a3d7_0242ac1c0002row0_col1{\n",
              "            background-color:  yellow;\n",
              "        }</style><table id=\"T_370ba744_2f83_11eb_a3d7_0242ac1c0002\" ><thead>    <tr>        <th class=\"blank level0\" ></th>        <th class=\"col_heading level0 col0\" >Loss</th>        <th class=\"col_heading level0 col1\" >Accuracy</th>    </tr></thead><tbody>\n",
              "                <tr>\n",
              "                        <th id=\"T_370ba744_2f83_11eb_a3d7_0242ac1c0002level0_row0\" class=\"row_heading level0 row0\" >baseline</th>\n",
              "                        <td id=\"T_370ba744_2f83_11eb_a3d7_0242ac1c0002row0_col0\" class=\"data row0 col0\" >0.295997</td>\n",
              "                        <td id=\"T_370ba744_2f83_11eb_a3d7_0242ac1c0002row0_col1\" class=\"data row0 col1\" >0.883800</td>\n",
              "            </tr>\n",
              "            <tr>\n",
              "                        <th id=\"T_370ba744_2f83_11eb_a3d7_0242ac1c0002level0_row1\" class=\"row_heading level0 row1\" >32_unit</th>\n",
              "                        <td id=\"T_370ba744_2f83_11eb_a3d7_0242ac1c0002row1_col0\" class=\"data row1 col0\" >1.027489</td>\n",
              "                        <td id=\"T_370ba744_2f83_11eb_a3d7_0242ac1c0002row1_col1\" class=\"data row1 col1\" >0.847480</td>\n",
              "            </tr>\n",
              "            <tr>\n",
              "                        <th id=\"T_370ba744_2f83_11eb_a3d7_0242ac1c0002level0_row2\" class=\"row_heading level0 row2\" >64_unit</th>\n",
              "                        <td id=\"T_370ba744_2f83_11eb_a3d7_0242ac1c0002row2_col0\" class=\"data row2 col0\" >1.119328</td>\n",
              "                        <td id=\"T_370ba744_2f83_11eb_a3d7_0242ac1c0002row2_col1\" class=\"data row2 col1\" >0.854160</td>\n",
              "            </tr>\n",
              "    </tbody></table>"
            ],
            "text/plain": [
              "<pandas.io.formats.style.Styler at 0x7f42a60f9cf8>"
            ]
          },
          "metadata": {
            "tags": []
          },
          "execution_count": 35
        }
      ]
    },
    {
      "cell_type": "markdown",
      "metadata": {
        "id": "3yVQ0GCsob0P"
      },
      "source": [
        "# Experiement 3 - Using MSE instead of binary_crossentropy"
      ]
    },
    {
      "cell_type": "markdown",
      "metadata": {
        "id": "vkhC9497ogaE"
      },
      "source": [
        "## Use MSE"
      ]
    },
    {
      "cell_type": "code",
      "metadata": {
        "id": "Tx7lV9tropIW",
        "colab": {
          "base_uri": "https://localhost:8080/",
          "height": 1000
        },
        "outputId": "f269d283-49a8-4516-d9bf-427a959c39ec"
      },
      "source": [
        "model = models.Sequential()\n",
        "model.add(layers.Dense(16, activation='relu', input_shape=(10000,)))\n",
        "model.add(layers.Dense(16, activation='relu'))\n",
        "model.add(layers.Dense(1, activation='sigmoid'))\n",
        " \n",
        "model.compile(optimizer=optimizers.RMSprop(lr=0.001),\n",
        "              loss=losses.mean_squared_error,\n",
        "              metrics=[metrics.binary_accuracy])\n",
        " \n",
        "history_mse = model.fit(partial_x_train,\n",
        "                    partial_y_train,\n",
        "                    epochs=20,\n",
        "                    batch_size=512,\n",
        "                    validation_data=(x_val, y_val))\n",
        "val_plot(plt, history_mse,1)"
      ],
      "execution_count": 36,
      "outputs": [
        {
          "output_type": "stream",
          "text": [
            "Epoch 1/20\n",
            "30/30 [==============================] - 1s 43ms/step - loss: 0.1794 - binary_accuracy: 0.7775 - val_loss: 0.1344 - val_binary_accuracy: 0.8368\n",
            "Epoch 2/20\n",
            "30/30 [==============================] - 1s 34ms/step - loss: 0.0968 - binary_accuracy: 0.9064 - val_loss: 0.1041 - val_binary_accuracy: 0.8727\n",
            "Epoch 3/20\n",
            "30/30 [==============================] - 1s 34ms/step - loss: 0.0691 - binary_accuracy: 0.9292 - val_loss: 0.0873 - val_binary_accuracy: 0.8895\n",
            "Epoch 4/20\n",
            "30/30 [==============================] - 1s 34ms/step - loss: 0.0531 - binary_accuracy: 0.9431 - val_loss: 0.0842 - val_binary_accuracy: 0.8888\n",
            "Epoch 5/20\n",
            "30/30 [==============================] - 1s 34ms/step - loss: 0.0417 - binary_accuracy: 0.9579 - val_loss: 0.0872 - val_binary_accuracy: 0.8826\n",
            "Epoch 6/20\n",
            "30/30 [==============================] - 1s 33ms/step - loss: 0.0335 - binary_accuracy: 0.9683 - val_loss: 0.0852 - val_binary_accuracy: 0.8860\n",
            "Epoch 7/20\n",
            "30/30 [==============================] - 1s 33ms/step - loss: 0.0270 - binary_accuracy: 0.9755 - val_loss: 0.0858 - val_binary_accuracy: 0.8834\n",
            "Epoch 8/20\n",
            "30/30 [==============================] - 1s 33ms/step - loss: 0.0217 - binary_accuracy: 0.9824 - val_loss: 0.0899 - val_binary_accuracy: 0.8787\n",
            "Epoch 9/20\n",
            "30/30 [==============================] - 1s 34ms/step - loss: 0.0181 - binary_accuracy: 0.9842 - val_loss: 0.0913 - val_binary_accuracy: 0.8789\n",
            "Epoch 10/20\n",
            "30/30 [==============================] - 1s 33ms/step - loss: 0.0142 - binary_accuracy: 0.9893 - val_loss: 0.0963 - val_binary_accuracy: 0.8744\n",
            "Epoch 11/20\n",
            "30/30 [==============================] - 1s 33ms/step - loss: 0.0114 - binary_accuracy: 0.9920 - val_loss: 0.0977 - val_binary_accuracy: 0.8723\n",
            "Epoch 12/20\n",
            "30/30 [==============================] - 1s 33ms/step - loss: 0.0085 - binary_accuracy: 0.9935 - val_loss: 0.1072 - val_binary_accuracy: 0.8629\n",
            "Epoch 13/20\n",
            "30/30 [==============================] - 1s 34ms/step - loss: 0.0079 - binary_accuracy: 0.9937 - val_loss: 0.0986 - val_binary_accuracy: 0.8740\n",
            "Epoch 14/20\n",
            "30/30 [==============================] - 1s 34ms/step - loss: 0.0064 - binary_accuracy: 0.9953 - val_loss: 0.1018 - val_binary_accuracy: 0.8720\n",
            "Epoch 15/20\n",
            "30/30 [==============================] - 1s 34ms/step - loss: 0.0058 - binary_accuracy: 0.9952 - val_loss: 0.1023 - val_binary_accuracy: 0.8713\n",
            "Epoch 16/20\n",
            "30/30 [==============================] - 1s 34ms/step - loss: 0.0035 - binary_accuracy: 0.9973 - val_loss: 0.1041 - val_binary_accuracy: 0.8697\n",
            "Epoch 17/20\n",
            "30/30 [==============================] - 1s 34ms/step - loss: 0.0047 - binary_accuracy: 0.9953 - val_loss: 0.1053 - val_binary_accuracy: 0.8707\n",
            "Epoch 18/20\n",
            "30/30 [==============================] - 1s 34ms/step - loss: 0.0028 - binary_accuracy: 0.9976 - val_loss: 0.1070 - val_binary_accuracy: 0.8681\n",
            "Epoch 19/20\n",
            "30/30 [==============================] - 1s 36ms/step - loss: 0.0040 - binary_accuracy: 0.9959 - val_loss: 0.1077 - val_binary_accuracy: 0.8678\n",
            "Epoch 20/20\n",
            "30/30 [==============================] - 1s 34ms/step - loss: 0.0023 - binary_accuracy: 0.9979 - val_loss: 0.1089 - val_binary_accuracy: 0.8677\n"
          ],
          "name": "stdout"
        },
        {
          "output_type": "display_data",
          "data": {
            "image/png": "[encoded data removed]",
            "text/plain": [
              "<Figure size 864x288 with 2 Axes>"
            ]
          },
          "metadata": {
            "tags": [],
            "needs_background": "light"
          }
        },
        {
          "output_type": "stream",
          "text": [
            "Best epoche for val_loss:4\n",
            "Best epoche for val_accr:3\n"
          ],
          "name": "stdout"
        }
      ]
    },
    {
      "cell_type": "markdown",
      "metadata": {
        "id": "rSjK_o-TAlKI"
      },
      "source": [
        "With MSE, Overfitting happens after 4th epoch that has the highest accuracy but loss becomes the lowest at 6th epoch.  Let's evaluate the results using 4 epochs to achieve better accuracy"
      ]
    },
    {
      "cell_type": "code",
      "metadata": {
        "id": "759rIyVYqc7O",
        "colab": {
          "base_uri": "https://localhost:8080/"
        },
        "outputId": "b5800d9d-08a1-4feb-b26c-52c8671bed4b"
      },
      "source": [
        "model.fit(partial_x_train,\n",
        "                  partial_y_train,\n",
        "                  epochs=4,\n",
        "                  batch_size=512,\n",
        "                  validation_data=(x_val, y_val))\n",
        "results_mse=model.evaluate(x_test, y_test)\n",
        "results_mse"
      ],
      "execution_count": 37,
      "outputs": [
        {
          "output_type": "stream",
          "text": [
            "Epoch 1/4\n",
            "30/30 [==============================] - 1s 39ms/step - loss: 0.0037 - binary_accuracy: 0.9961 - val_loss: 0.1107 - val_binary_accuracy: 0.8655\n",
            "Epoch 2/4\n",
            "30/30 [==============================] - 1s 33ms/step - loss: 0.0021 - binary_accuracy: 0.9981 - val_loss: 0.1111 - val_binary_accuracy: 0.8685\n",
            "Epoch 3/4\n",
            "30/30 [==============================] - 1s 32ms/step - loss: 0.0020 - binary_accuracy: 0.9981 - val_loss: 0.1122 - val_binary_accuracy: 0.8674\n",
            "Epoch 4/4\n",
            "30/30 [==============================] - 1s 32ms/step - loss: 0.0037 - binary_accuracy: 0.9957 - val_loss: 0.1125 - val_binary_accuracy: 0.8660\n",
            "782/782 [==============================] - 1s 2ms/step - loss: 0.1231 - binary_accuracy: 0.8526\n"
          ],
          "name": "stdout"
        },
        {
          "output_type": "execute_result",
          "data": {
            "text/plain": [
              "[0.12307372689247131, 0.8525999784469604]"
            ]
          },
          "metadata": {
            "tags": []
          },
          "execution_count": 37
        }
      ]
    },
    {
      "cell_type": "markdown",
      "metadata": {
        "id": "vj87P6ijCd9_"
      },
      "source": [
        "## Comparion\n",
        "MSE has better loss measures while three is a trade off in accuracy which has declined 4% from 88.5% to 84.6%"
      ]
    },
    {
      "cell_type": "code",
      "metadata": {
        "id": "LeYX6l8Br88x",
        "colab": {
          "base_uri": "https://localhost:8080/",
          "height": 82
        },
        "outputId": "94919d22-fa84-41d5-e7e3-fcf4702dc592"
      },
      "source": [
        "df_loss=pd.DataFrame.from_dict(dict([('baseline',results), ('MSE',results_mse)]), \n",
        "                          orient='index', columns=['Loss','Accuracy'])\n",
        "df_loss.style.apply(highlight_max)"
      ],
      "execution_count": 38,
      "outputs": [
        {
          "output_type": "execute_result",
          "data": {
            "text/html": [
              "<style  type=\"text/css\" >\n",
              "#T_48bc16f4_2f83_11eb_a3d7_0242ac1c0002row0_col1,#T_48bc16f4_2f83_11eb_a3d7_0242ac1c0002row1_col0{\n",
              "            background-color:  yellow;\n",
              "        }</style><table id=\"T_48bc16f4_2f83_11eb_a3d7_0242ac1c0002\" ><thead>    <tr>        <th class=\"blank level0\" ></th>        <th class=\"col_heading level0 col0\" >Loss</th>        <th class=\"col_heading level0 col1\" >Accuracy</th>    </tr></thead><tbody>\n",
              "                <tr>\n",
              "                        <th id=\"T_48bc16f4_2f83_11eb_a3d7_0242ac1c0002level0_row0\" class=\"row_heading level0 row0\" >baseline</th>\n",
              "                        <td id=\"T_48bc16f4_2f83_11eb_a3d7_0242ac1c0002row0_col0\" class=\"data row0 col0\" >0.295997</td>\n",
              "                        <td id=\"T_48bc16f4_2f83_11eb_a3d7_0242ac1c0002row0_col1\" class=\"data row0 col1\" >0.883800</td>\n",
              "            </tr>\n",
              "            <tr>\n",
              "                        <th id=\"T_48bc16f4_2f83_11eb_a3d7_0242ac1c0002level0_row1\" class=\"row_heading level0 row1\" >MSE</th>\n",
              "                        <td id=\"T_48bc16f4_2f83_11eb_a3d7_0242ac1c0002row1_col0\" class=\"data row1 col0\" >0.123074</td>\n",
              "                        <td id=\"T_48bc16f4_2f83_11eb_a3d7_0242ac1c0002row1_col1\" class=\"data row1 col1\" >0.852600</td>\n",
              "            </tr>\n",
              "    </tbody></table>"
            ],
            "text/plain": [
              "<pandas.io.formats.style.Styler at 0x7f42a606d908>"
            ]
          },
          "metadata": {
            "tags": []
          },
          "execution_count": 38
        }
      ]
    },
    {
      "cell_type": "markdown",
      "metadata": {
        "id": "YSo9-jhTDABy"
      },
      "source": [
        "# Experiment - Using tanh activation instead of relu."
      ]
    },
    {
      "cell_type": "markdown",
      "metadata": {
        "id": "1JJiN6uwDFaC"
      },
      "source": [
        "## Use tanh"
      ]
    },
    {
      "cell_type": "code",
      "metadata": {
        "id": "jTvxQSW_DI-z",
        "colab": {
          "base_uri": "https://localhost:8080/",
          "height": 1000
        },
        "outputId": "14912ac4-24c7-42b8-a3db-72d4f51fed9e"
      },
      "source": [
        "model = models.Sequential()\n",
        "model.add(layers.Dense(16, activation='tanh', input_shape=(10000,)))\n",
        "model.add(layers.Dense(16, activation='tanh'))\n",
        "model.add(layers.Dense(1, activation='sigmoid'))\n",
        " \n",
        "model.compile(optimizer=optimizers.RMSprop(lr=0.001),\n",
        "              loss=losses.binary_crossentropy,\n",
        "              metrics=[metrics.binary_accuracy])\n",
        " \n",
        "history_tanh = model.fit(partial_x_train,\n",
        "                    partial_y_train,\n",
        "                    epochs=20,\n",
        "                    batch_size=512,\n",
        "                    validation_data=(x_val, y_val))\n",
        "val_plot(plt, history_mse,1)"
      ],
      "execution_count": 39,
      "outputs": [
        {
          "output_type": "stream",
          "text": [
            "Epoch 1/20\n",
            "30/30 [==============================] - 1s 42ms/step - loss: 0.4792 - binary_accuracy: 0.7938 - val_loss: 0.3507 - val_binary_accuracy: 0.8771\n",
            "Epoch 2/20\n",
            "30/30 [==============================] - 1s 35ms/step - loss: 0.2725 - binary_accuracy: 0.9074 - val_loss: 0.2862 - val_binary_accuracy: 0.8853\n",
            "Epoch 3/20\n",
            "30/30 [==============================] - 1s 35ms/step - loss: 0.1902 - binary_accuracy: 0.9355 - val_loss: 0.2735 - val_binary_accuracy: 0.8880\n",
            "Epoch 4/20\n",
            "30/30 [==============================] - 1s 35ms/step - loss: 0.1457 - binary_accuracy: 0.9501 - val_loss: 0.3560 - val_binary_accuracy: 0.8639\n",
            "Epoch 5/20\n",
            "30/30 [==============================] - 1s 36ms/step - loss: 0.1107 - binary_accuracy: 0.9625 - val_loss: 0.3108 - val_binary_accuracy: 0.8840\n",
            "Epoch 6/20\n",
            "30/30 [==============================] - 1s 35ms/step - loss: 0.0850 - binary_accuracy: 0.9718 - val_loss: 0.3403 - val_binary_accuracy: 0.8807\n",
            "Epoch 7/20\n",
            "30/30 [==============================] - 1s 33ms/step - loss: 0.0676 - binary_accuracy: 0.9789 - val_loss: 0.3797 - val_binary_accuracy: 0.8774\n",
            "Epoch 8/20\n",
            "30/30 [==============================] - 1s 35ms/step - loss: 0.0534 - binary_accuracy: 0.9842 - val_loss: 0.4254 - val_binary_accuracy: 0.8744\n",
            "Epoch 9/20\n",
            "30/30 [==============================] - 1s 35ms/step - loss: 0.0429 - binary_accuracy: 0.9878 - val_loss: 0.4751 - val_binary_accuracy: 0.8714\n",
            "Epoch 10/20\n",
            "30/30 [==============================] - 1s 34ms/step - loss: 0.0359 - binary_accuracy: 0.9899 - val_loss: 0.5096 - val_binary_accuracy: 0.8694\n",
            "Epoch 11/20\n",
            "30/30 [==============================] - 1s 34ms/step - loss: 0.0283 - binary_accuracy: 0.9920 - val_loss: 0.5510 - val_binary_accuracy: 0.8660\n",
            "Epoch 12/20\n",
            "30/30 [==============================] - 1s 34ms/step - loss: 0.0190 - binary_accuracy: 0.9952 - val_loss: 0.5926 - val_binary_accuracy: 0.8663\n",
            "Epoch 13/20\n",
            "30/30 [==============================] - 1s 34ms/step - loss: 0.0070 - binary_accuracy: 0.9995 - val_loss: 0.6422 - val_binary_accuracy: 0.8642\n",
            "Epoch 14/20\n",
            "30/30 [==============================] - 1s 33ms/step - loss: 0.0203 - binary_accuracy: 0.9938 - val_loss: 0.6882 - val_binary_accuracy: 0.8627\n",
            "Epoch 15/20\n",
            "30/30 [==============================] - 1s 33ms/step - loss: 0.0036 - binary_accuracy: 0.9997 - val_loss: 0.7364 - val_binary_accuracy: 0.8568\n",
            "Epoch 16/20\n",
            "30/30 [==============================] - 1s 33ms/step - loss: 0.0176 - binary_accuracy: 0.9953 - val_loss: 0.7346 - val_binary_accuracy: 0.8632\n",
            "Epoch 17/20\n",
            "30/30 [==============================] - 1s 34ms/step - loss: 0.0013 - binary_accuracy: 1.0000 - val_loss: 0.7631 - val_binary_accuracy: 0.8625\n",
            "Epoch 18/20\n",
            "30/30 [==============================] - 1s 34ms/step - loss: 0.0027 - binary_accuracy: 0.9993 - val_loss: 1.0044 - val_binary_accuracy: 0.8376\n",
            "Epoch 19/20\n",
            "30/30 [==============================] - 1s 33ms/step - loss: 0.0027 - binary_accuracy: 0.9993 - val_loss: 0.8383 - val_binary_accuracy: 0.8583\n",
            "Epoch 20/20\n",
            "30/30 [==============================] - 1s 35ms/step - loss: 3.9445e-04 - binary_accuracy: 1.0000 - val_loss: 0.8828 - val_binary_accuracy: 0.8580\n"
          ],
          "name": "stdout"
        },
        {
          "output_type": "display_data",
          "data": {
            "image/png": "[encoded data removed]",
            "text/plain": [
              "<Figure size 864x288 with 2 Axes>"
            ]
          },
          "metadata": {
            "tags": [],
            "needs_background": "light"
          }
        },
        {
          "output_type": "stream",
          "text": [
            "Best epoche for val_loss:4\n",
            "Best epoche for val_accr:3\n"
          ],
          "name": "stdout"
        }
      ]
    },
    {
      "cell_type": "markdown",
      "metadata": {
        "id": "wrgfqdDFEvRk"
      },
      "source": [
        "Overfitting starts after 4th epoch with the highest accuracy. 6th epoch reaches lowest loss.   Let's evalue the model with 4 epochs."
      ]
    },
    {
      "cell_type": "code",
      "metadata": {
        "id": "Qa4VAkSQFXnn",
        "colab": {
          "base_uri": "https://localhost:8080/"
        },
        "outputId": "f66a2d17-6abc-4d92-e473-f3d6b605238d"
      },
      "source": [
        "model.fit(partial_x_train,\n",
        "                  partial_y_train,\n",
        "                  epochs=4,\n",
        "                  batch_size=512,\n",
        "                  validation_data=(x_val, y_val))\n",
        "results_tanh=model.evaluate(x_test, y_test)\n",
        "results_tanh"
      ],
      "execution_count": 40,
      "outputs": [
        {
          "output_type": "stream",
          "text": [
            "Epoch 1/4\n",
            "30/30 [==============================] - 1s 37ms/step - loss: 2.2842e-04 - binary_accuracy: 1.0000 - val_loss: 0.9439 - val_binary_accuracy: 0.8562\n",
            "Epoch 2/4\n",
            "30/30 [==============================] - 1s 33ms/step - loss: 0.0211 - binary_accuracy: 0.9948 - val_loss: 0.9713 - val_binary_accuracy: 0.8565\n",
            "Epoch 3/4\n",
            "30/30 [==============================] - 1s 33ms/step - loss: 1.2416e-04 - binary_accuracy: 1.0000 - val_loss: 0.9773 - val_binary_accuracy: 0.8572\n",
            "Epoch 4/4\n",
            "30/30 [==============================] - 1s 33ms/step - loss: 9.4732e-05 - binary_accuracy: 1.0000 - val_loss: 0.9901 - val_binary_accuracy: 0.8573\n",
            "782/782 [==============================] - 1s 2ms/step - loss: 1.1091 - binary_accuracy: 0.8406\n"
          ],
          "name": "stdout"
        },
        {
          "output_type": "execute_result",
          "data": {
            "text/plain": [
              "[1.109142780303955, 0.8406400084495544]"
            ]
          },
          "metadata": {
            "tags": []
          },
          "execution_count": 40
        }
      ]
    },
    {
      "cell_type": "markdown",
      "metadata": {
        "id": "wMDlrC9aFuAR"
      },
      "source": [
        "## Comparison\n",
        "Activation function relu has outperformed tanh in this use case"
      ]
    },
    {
      "cell_type": "code",
      "metadata": {
        "id": "rwb0RXqTF5_G",
        "colab": {
          "base_uri": "https://localhost:8080/",
          "height": 82
        },
        "outputId": "2f8ea615-5e4c-4ce7-827f-63e2d461c253"
      },
      "source": [
        "df_activation=pd.DataFrame.from_dict(dict([('baseline',results), ('tanh',results_tanh)]), \n",
        "                          orient='index', columns=['Loss','Accuracy'])\n",
        "df_activation.style.apply(highlight_max)"
      ],
      "execution_count": 41,
      "outputs": [
        {
          "output_type": "execute_result",
          "data": {
            "text/html": [
              "<style  type=\"text/css\" >\n",
              "#T_59e20038_2f83_11eb_a3d7_0242ac1c0002row0_col0,#T_59e20038_2f83_11eb_a3d7_0242ac1c0002row0_col1{\n",
              "            background-color:  yellow;\n",
              "        }</style><table id=\"T_59e20038_2f83_11eb_a3d7_0242ac1c0002\" ><thead>    <tr>        <th class=\"blank level0\" ></th>        <th class=\"col_heading level0 col0\" >Loss</th>        <th class=\"col_heading level0 col1\" >Accuracy</th>    </tr></thead><tbody>\n",
              "                <tr>\n",
              "                        <th id=\"T_59e20038_2f83_11eb_a3d7_0242ac1c0002level0_row0\" class=\"row_heading level0 row0\" >baseline</th>\n",
              "                        <td id=\"T_59e20038_2f83_11eb_a3d7_0242ac1c0002row0_col0\" class=\"data row0 col0\" >0.295997</td>\n",
              "                        <td id=\"T_59e20038_2f83_11eb_a3d7_0242ac1c0002row0_col1\" class=\"data row0 col1\" >0.883800</td>\n",
              "            </tr>\n",
              "            <tr>\n",
              "                        <th id=\"T_59e20038_2f83_11eb_a3d7_0242ac1c0002level0_row1\" class=\"row_heading level0 row1\" >tanh</th>\n",
              "                        <td id=\"T_59e20038_2f83_11eb_a3d7_0242ac1c0002row1_col0\" class=\"data row1 col0\" >1.109143</td>\n",
              "                        <td id=\"T_59e20038_2f83_11eb_a3d7_0242ac1c0002row1_col1\" class=\"data row1 col1\" >0.840640</td>\n",
              "            </tr>\n",
              "    </tbody></table>"
            ],
            "text/plain": [
              "<pandas.io.formats.style.Styler at 0x7f42a503eef0>"
            ]
          },
          "metadata": {
            "tags": []
          },
          "execution_count": 41
        }
      ]
    },
    {
      "cell_type": "markdown",
      "metadata": {
        "id": "FePlallMGFyC"
      },
      "source": [
        "# Conclusion from these experiments\n",
        "Our baseline is the original network setup using 3 hidden layers, 16 hidden units, activation func of relu and loss func of Crossentropy.   After trying different settings, the baseline configuration has out performed other configurations with the best accuracy.  MSE has yields the lowest loss score."
      ]
    },
    {
      "cell_type": "code",
      "metadata": {
        "id": "ictNXedmGMIh",
        "colab": {
          "base_uri": "https://localhost:8080/",
          "height": 187
        },
        "outputId": "f15a164a-67c4-47dc-972b-0a7d18c57dfe"
      },
      "source": [
        "df=pd.concat([df_layer, df_unit, df_loss, df_activation]).drop_duplicates()\n",
        " \n",
        "df.sort_values('Loss')\n",
        "df.style.apply(highlight_max)"
      ],
      "execution_count": 42,
      "outputs": [
        {
          "output_type": "execute_result",
          "data": {
            "text/html": [
              "<style  type=\"text/css\" >\n",
              "#T_59e6917a_2f83_11eb_a3d7_0242ac1c0002row1_col1,#T_59e6917a_2f83_11eb_a3d7_0242ac1c0002row5_col0{\n",
              "            background-color:  yellow;\n",
              "        }</style><table id=\"T_59e6917a_2f83_11eb_a3d7_0242ac1c0002\" ><thead>    <tr>        <th class=\"blank level0\" ></th>        <th class=\"col_heading level0 col0\" >Loss</th>        <th class=\"col_heading level0 col1\" >Accuracy</th>    </tr></thead><tbody>\n",
              "                <tr>\n",
              "                        <th id=\"T_59e6917a_2f83_11eb_a3d7_0242ac1c0002level0_row0\" class=\"row_heading level0 row0\" >1-layer</th>\n",
              "                        <td id=\"T_59e6917a_2f83_11eb_a3d7_0242ac1c0002row0_col0\" class=\"data row0 col0\" >0.594958</td>\n",
              "                        <td id=\"T_59e6917a_2f83_11eb_a3d7_0242ac1c0002row0_col1\" class=\"data row0 col1\" >0.853560</td>\n",
              "            </tr>\n",
              "            <tr>\n",
              "                        <th id=\"T_59e6917a_2f83_11eb_a3d7_0242ac1c0002level0_row1\" class=\"row_heading level0 row1\" >Baseline</th>\n",
              "                        <td id=\"T_59e6917a_2f83_11eb_a3d7_0242ac1c0002row1_col0\" class=\"data row1 col0\" >0.295997</td>\n",
              "                        <td id=\"T_59e6917a_2f83_11eb_a3d7_0242ac1c0002row1_col1\" class=\"data row1 col1\" >0.883800</td>\n",
              "            </tr>\n",
              "            <tr>\n",
              "                        <th id=\"T_59e6917a_2f83_11eb_a3d7_0242ac1c0002level0_row2\" class=\"row_heading level0 row2\" >3-layer</th>\n",
              "                        <td id=\"T_59e6917a_2f83_11eb_a3d7_0242ac1c0002row2_col0\" class=\"data row2 col0\" >0.943320</td>\n",
              "                        <td id=\"T_59e6917a_2f83_11eb_a3d7_0242ac1c0002row2_col1\" class=\"data row2 col1\" >0.849040</td>\n",
              "            </tr>\n",
              "            <tr>\n",
              "                        <th id=\"T_59e6917a_2f83_11eb_a3d7_0242ac1c0002level0_row3\" class=\"row_heading level0 row3\" >32_unit</th>\n",
              "                        <td id=\"T_59e6917a_2f83_11eb_a3d7_0242ac1c0002row3_col0\" class=\"data row3 col0\" >1.027489</td>\n",
              "                        <td id=\"T_59e6917a_2f83_11eb_a3d7_0242ac1c0002row3_col1\" class=\"data row3 col1\" >0.847480</td>\n",
              "            </tr>\n",
              "            <tr>\n",
              "                        <th id=\"T_59e6917a_2f83_11eb_a3d7_0242ac1c0002level0_row4\" class=\"row_heading level0 row4\" >64_unit</th>\n",
              "                        <td id=\"T_59e6917a_2f83_11eb_a3d7_0242ac1c0002row4_col0\" class=\"data row4 col0\" >1.119328</td>\n",
              "                        <td id=\"T_59e6917a_2f83_11eb_a3d7_0242ac1c0002row4_col1\" class=\"data row4 col1\" >0.854160</td>\n",
              "            </tr>\n",
              "            <tr>\n",
              "                        <th id=\"T_59e6917a_2f83_11eb_a3d7_0242ac1c0002level0_row5\" class=\"row_heading level0 row5\" >MSE</th>\n",
              "                        <td id=\"T_59e6917a_2f83_11eb_a3d7_0242ac1c0002row5_col0\" class=\"data row5 col0\" >0.123074</td>\n",
              "                        <td id=\"T_59e6917a_2f83_11eb_a3d7_0242ac1c0002row5_col1\" class=\"data row5 col1\" >0.852600</td>\n",
              "            </tr>\n",
              "            <tr>\n",
              "                        <th id=\"T_59e6917a_2f83_11eb_a3d7_0242ac1c0002level0_row6\" class=\"row_heading level0 row6\" >tanh</th>\n",
              "                        <td id=\"T_59e6917a_2f83_11eb_a3d7_0242ac1c0002row6_col0\" class=\"data row6 col0\" >1.109143</td>\n",
              "                        <td id=\"T_59e6917a_2f83_11eb_a3d7_0242ac1c0002row6_col1\" class=\"data row6 col1\" >0.840640</td>\n",
              "            </tr>\n",
              "    </tbody></table>"
            ],
            "text/plain": [
              "<pandas.io.formats.style.Styler at 0x7f42a33c25c0>"
            ]
          },
          "metadata": {
            "tags": []
          },
          "execution_count": 42
        }
      ]
    }
  ]
}